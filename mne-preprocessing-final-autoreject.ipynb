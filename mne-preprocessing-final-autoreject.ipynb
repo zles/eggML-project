{
 "cells": [
  {
   "cell_type": "markdown",
   "id": "bb7c1988-20ee-424e-ae46-92e6f1f3a4f3",
   "metadata": {},
   "source": [
    "# EEG preprocessing with MNE"
   ]
  },
  {
   "cell_type": "markdown",
   "id": "a97ac09e-fd4b-434e-a2bc-fe0e4c32dc62",
   "metadata": {},
   "source": [
    "Imports"
   ]
  },
  {
   "cell_type": "code",
   "execution_count": 5,
   "id": "d0dadcdc-5983-41ee-8f2f-13e4ab05a33e",
   "metadata": {},
   "outputs": [],
   "source": [
    "import mne\n",
    "import numpy as np\n",
    "import pandas as pd\n",
    "from autoreject import AutoReject\n",
    "ar = AutoReject()\n",
    "import copy"
   ]
  },
  {
   "cell_type": "code",
   "execution_count": 6,
   "metadata": {},
   "outputs": [
    {
     "name": "stdout",
     "output_type": "stream",
     "text": [
      "   participant_id       type\n",
      "0        sub-1448    Control\n",
      "1        sub-1824  Psychosis\n",
      "2        sub-1971    Control\n",
      "3        sub-1983  Psychosis\n",
      "4        sub-1989    Control\n",
      "..            ...        ...\n",
      "77      sub-2184A  Psychosis\n",
      "78      sub-2193A    Control\n",
      "79      sub-2214A    Control\n",
      "80      sub-2217A  Psychosis\n",
      "81      sub-2221A    Control\n",
      "\n",
      "[82 rows x 2 columns]\n"
     ]
    }
   ],
   "source": [
    "#create dataframe from participants.tsv containing columns 1 and 2\n",
    "df_participants = pd.read_csv('../ds003944/participants.tsv', sep='\\t', usecols=[0,1])\n",
    "print(df_participants)"
   ]
  },
  {
   "cell_type": "code",
   "execution_count": 7,
   "metadata": {},
   "outputs": [],
   "source": [
    "#create a dictionary with new channel names\n",
    "channels_new_names_dict = {\n",
    "    'EEG019':'FC5',\n",
    "    'EEG020':'FC1',\n",
    "    'EEG021':'FC2',\n",
    "    'EEG022':'FC6',\n",
    "    'EEG027':'C5',\n",
    "    'EEG028':'C3',\n",
    "    'EEG029':'C1',\n",
    "    'EEG030':'Cz',\n",
    "    'EEG031':'C2',\n",
    "    'EEG032':'C4',\n",
    "    'EEG033':'C6',\n",
    "    'EEG038':'CP3',\n",
    "    'EEG039':'CP1',\n",
    "    'EEG040': 'CP2',\n",
    "    'EEG041': 'CP4',\n",
    "    'EEG001': 'Fp1',\n",
    "    'EEG002': 'Fpz',\n",
    "    'EEG003': 'Fp2',\n",
    "    'EEG004': 'AF7',\n",
    "    'EEG005': 'AF3',\n",
    "    'EEG006': 'AF4',\n",
    "    'EEG008': 'F7',\n",
    "    'EEG009': 'F5',\n",
    "    'EEG010': 'F3',\n",
    "    'EEG011': 'F1',\n",
    "    'EEG012': 'Fz',\n",
    "    'EEG013': 'F2',\n",
    "    'EEG014': 'F4',\n",
    "    'EEG015': 'F6',\n",
    "    'EEG016': 'F8',\n",
    "    'EEG018': 'FT7',\n",
    "    'EEG023': 'FT8',\n",
    "    'EEG034': 'T8',\n",
    "    'EEG035': 'T10',\n",
    "    'EEG045': 'P5',\n",
    "    'EEG046': 'P3',\n",
    "    'EEG047': 'P1',\n",
    "    'EEG048': 'Pz',\n",
    "    'EEG049': 'P2',\n",
    "    'EEG050': 'P4',\n",
    "    'EEG051': 'P6',\n",
    "    'EEG052': 'P8',\n",
    "    'EEG053': 'PO7',\n",
    "    'EEG054': 'PO3',\n",
    "    'EEG055': 'PO4',\n",
    "    'EEG056': 'PO8',\n",
    "    'EEG057': 'O1',\n",
    "    'EEG058': 'Oz',\n",
    "    'EEG059': 'O2',\n",
    "    'EEG060': 'Iz',\n",
    "    \"EEG007\": 'AF6',\n",
    "    \"EEG017\": 'FT9',\n",
    "    \"EEG024\": 'FT10',\n",
    "    \"EEG025\": 'T9',\n",
    "    \"EEG026\": 'T7',\n",
    "    \"EEG042\": 'TP8',\n",
    "    \"EEG043\": 'TP10',\n",
    "    \"EEG044\": 'P7',\n",
    "    \"EEG061\": 'VEOG',\n",
    "    \"EEG062\": 'Misc',\n",
    "    \"EEG063\": 'ECG',\n",
    "    \"EEG064\": 'M2',\n",
    "    \"EEG036\": 'TP9',\n",
    "    \"EEG037\": 'TP7'\n",
    "}"
   ]
  },
  {
   "cell_type": "code",
   "execution_count": 8,
   "id": "3b249c15-a0df-4400-a7cb-a75ad5035b8b",
   "metadata": {},
   "outputs": [
    {
     "name": "stdout",
     "output_type": "stream",
     "text": [
      "Extracting parameters from ../ds003944/sub-1448/eeg/sub-1448_task-Rest_eeg.vhdr...\n",
      "Setting channel info structure...\n",
      "Reading 0 ... 305999  =      0.000 ...   305.999 secs...\n",
      "Setting up band-stop filter\n",
      "\n",
      "FIR filter parameters\n",
      "---------------------\n",
      "Designing a one-pass, zero-phase, non-causal bandstop filter:\n",
      "- Windowed time-domain design (firwin) method\n",
      "- Hamming window with 0.0194 passband ripple and 53 dB stopband attenuation\n",
      "- Lower transition bandwidth: 0.50 Hz\n",
      "- Upper transition bandwidth: 0.50 Hz\n",
      "- Filter length: 6601 samples (6.601 sec)\n",
      "\n"
     ]
    },
    {
     "name": "stderr",
     "output_type": "stream",
     "text": [
      "[Parallel(n_jobs=1)]: Using backend SequentialBackend with 1 concurrent workers.\n",
      "[Parallel(n_jobs=1)]: Done   1 out of   1 | elapsed:    0.0s remaining:    0.0s\n",
      "[Parallel(n_jobs=1)]: Done   2 out of   2 | elapsed:    0.0s remaining:    0.0s\n",
      "[Parallel(n_jobs=1)]: Done   3 out of   3 | elapsed:    0.0s remaining:    0.0s\n",
      "[Parallel(n_jobs=1)]: Done   4 out of   4 | elapsed:    0.0s remaining:    0.0s\n"
     ]
    },
    {
     "name": "stdout",
     "output_type": "stream",
     "text": [
      "Filtering raw data in 1 contiguous segment\n",
      "Setting up band-pass filter from 0.05 - 30 Hz\n",
      "\n",
      "IIR filter parameters\n",
      "---------------------\n",
      "Butterworth bandpass zero-phase (two-pass forward and reverse) non-causal filter:\n",
      "- Filter order 16 (effective, after forward-backward)\n",
      "- Cutoffs at 0.05, 30.00 Hz: -6.02, -6.02 dB\n",
      "\n"
     ]
    },
    {
     "name": "stderr",
     "output_type": "stream",
     "text": [
      "[Parallel(n_jobs=1)]: Done  61 out of  61 | elapsed:    1.1s finished\n"
     ]
    },
    {
     "name": "stdout",
     "output_type": "stream",
     "text": [
      "EEG channel type selected for re-referencing\n",
      "Applying average reference.\n",
      "Applying a custom ('EEG',) reference.\n",
      "EEG channel type selected for re-referencing\n",
      "Applying a custom ('EEG',) reference.\n",
      "{}\n",
      "Not setting metadata\n",
      "10 matching events found\n",
      "No baseline correction applied\n",
      "0 projection items activated\n",
      "Using data from preloaded Raw for 10 events and 30000 original time points ...\n",
      "0 bad epochs dropped\n",
      "Fitting ICA to data using 61 channels (please be patient, this may take a while)\n",
      "Selecting by number: 50 components\n",
      " \n"
     ]
    }
   ],
   "source": [
    "#run the below code for each subject using vmrk files within folder that name equals value in column 1 of df_participants;\n",
    "#if loops is interrupted, it can be continued from the next subject\n",
    "\n",
    "\n",
    "\n",
    "for index, row in df_participants.iterrows():\n",
    "    \n",
    "    try:\n",
    "\n",
    "        #reading brainvision files\n",
    "        brainvision_raw = mne.io.read_raw_brainvision(\n",
    "            f'../ds003944/{row[\"participant_id\"]}/eeg/{row[\"participant_id\"]}_task-Rest_eeg.vhdr',\n",
    "            preload=True)\n",
    "\n",
    "        brainvision_fname = f'../ds003944/{row[\"participant_id\"]}/eeg/{row[\"participant_id\"]}_task-Rest_eeg.vhdr'\n",
    "\n",
    "        \n",
    "        #renaming channels\n",
    "        brainvision_raw.rename_channels(channels_new_names_dict)\n",
    "\n",
    "        #setting channel types\n",
    "        brainvision_raw.set_channel_types({\n",
    "            'VEOG':'eog',\n",
    "            'ECG':'ecg',\n",
    "            'Misc':'misc',\n",
    "            'M2':'eeg'\n",
    "        })\n",
    "\n",
    "        #setting montage\n",
    "        brainvision_raw.set_montage('standard_1020')\n",
    "\n",
    "        #filtering data\n",
    "        mat_nyquist_freq = brainvision_raw.info[\"sfreq\"] / 2\n",
    "        brainvision_raw.notch_filter(freqs=np.arange(50, mat_nyquist_freq, 50), picks='eeg')\n",
    "        brainvision_raw.filter(0.05, 30, method=\"iir\", picks='eeg')\n",
    "\n",
    "        #setting reference\n",
    "        reference = 'average'\n",
    "        brainvision_raw.set_eeg_reference(ref_channels=reference)\n",
    "        reference = ['M2']\n",
    "        brainvision_raw.set_eeg_reference(ref_channels=reference)\n",
    "\n",
    "        #data segmentation into epochs\n",
    "        events_from_annotations, events_dict_from_annotations = mne.events_from_annotations(brainvision_raw)\n",
    "        print(events_dict_from_annotations)\n",
    "        mat_epochs = mne.make_fixed_length_epochs(brainvision_raw, duration=30, preload=True)\n",
    "\n",
    "        #occular correction with ICA\n",
    "        ica = mne.preprocessing.ICA(n_components=50, random_state=42, method=\"infomax\")\n",
    "        ica.fit(mat_epochs)\n",
    "        ica.exclude=[]\n",
    "        eog_indices, eog_sources = ica.find_bads_eog(\n",
    "            mat_epochs, \n",
    "            measure='zscore', \n",
    "            threshold='auto'\n",
    "        )\n",
    "        ica.exclude = eog_indices\n",
    "        ica.apply(mat_epochs)\n",
    "    \n",
    "        #interpolating bad channels\n",
    "        mat_epochs.info['bads'] = ['Fp1', 'Fp2', 'AF3', 'AF4']\n",
    "        mat_epochs = mat_epochs.interpolate_bads(reset_bads=False)\n",
    "\n",
    "        #artifact rejection\n",
    "        mat_epochs_clean, _ = ar.fit_transform(mat_epochs)\n",
    "\n",
    "        #saving epochs to fif file\n",
    "        dir_to_store_fif = \"../eggML-project/preprocessed-data-autoreject/\"\n",
    "        start = brainvision_fname.index(\"sub-\")\n",
    "        end = brainvision_fname.index(\"/eeg\")\n",
    "        sub_id = brainvision_fname[start:end]\n",
    "        mat_epochs_clean.save(f\"{dir_to_store_fif}{sub_id}-epo.fif\")\n",
    "\n",
    "        #update df_participants with number of epochs and fif file name\n",
    "        df_participants.loc[index, \"number_of_epochs\"] = len(mat_epochs)\n",
    "        df_participants.loc[index, \"fif_file_name\"] = f\"{sub_id}-epo.fif\"\n",
    "        \n",
    "\n",
    "    except:\n",
    "        continue\n",
    "\n",
    "    #saving df_participants to csv file\n",
    "    df_participants.to_csv(\"../eggML-project/preprocessed-data-autoreject/df_participants.csv\", index=False)\n",
    "\n",
    "        \n",
    "\n",
    "\n",
    "\n",
    "\n",
    "\n",
    "    \n",
    "\n"
   ]
  }
 ],
 "metadata": {
  "kernelspec": {
   "display_name": ".venv",
   "language": "python",
   "name": "python3"
  },
  "language_info": {
   "codemirror_mode": {
    "name": "ipython",
    "version": 3
   },
   "file_extension": ".py",
   "mimetype": "text/x-python",
   "name": "python",
   "nbconvert_exporter": "python",
   "pygments_lexer": "ipython3",
   "version": "3.11.0"
  },
  "orig_nbformat": 4,
  "vscode": {
   "interpreter": {
    "hash": "46163c57d5b04891a5e4d3abf1d0e8d0e7c5f2f59168e3778b3985befe274ccf"
   }
  }
 },
 "nbformat": 4,
 "nbformat_minor": 2
}
