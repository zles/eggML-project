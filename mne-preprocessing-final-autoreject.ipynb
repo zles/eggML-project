{
 "cells": [
  {
   "cell_type": "markdown",
   "id": "bb7c1988-20ee-424e-ae46-92e6f1f3a4f3",
   "metadata": {},
   "source": [
    "# EEG preprocessing with MNE"
   ]
  },
  {
   "cell_type": "markdown",
   "id": "a97ac09e-fd4b-434e-a2bc-fe0e4c32dc62",
   "metadata": {},
   "source": [
    "Imports"
   ]
  },
  {
   "cell_type": "code",
   "execution_count": 1,
   "id": "d0dadcdc-5983-41ee-8f2f-13e4ab05a33e",
   "metadata": {},
   "outputs": [],
   "source": [
    "import mne\n",
    "import numpy as np\n",
    "import pandas as pd\n",
    "from autoreject import AutoReject\n",
    "ar = AutoReject()\n",
    "import copy"
   ]
  },
  {
   "cell_type": "code",
   "execution_count": 2,
   "metadata": {},
   "outputs": [
    {
     "name": "stdout",
     "output_type": "stream",
     "text": [
      "   participant_id       type\n",
      "0        sub-1448    Control\n",
      "1        sub-1824  Psychosis\n",
      "2        sub-1971    Control\n",
      "3        sub-1983  Psychosis\n",
      "4        sub-1989    Control\n",
      "..            ...        ...\n",
      "77      sub-2184A  Psychosis\n",
      "78      sub-2193A    Control\n",
      "79      sub-2214A    Control\n",
      "80      sub-2217A  Psychosis\n",
      "81      sub-2221A    Control\n",
      "\n",
      "[82 rows x 2 columns]\n"
     ]
    }
   ],
   "source": [
    "#create dataframe from participants.tsv containing columns 1 and 2\n",
    "df_participants = pd.read_csv('../ds003944/participants.tsv', sep='\\t', usecols=[0,1])\n",
    "print(df_participants)"
   ]
  },
  {
   "cell_type": "code",
   "execution_count": 3,
   "metadata": {},
   "outputs": [],
   "source": [
    "#create a dictionary with new channel names\n",
    "channels_new_names_dict = {\n",
    "    'EEG019':'FC5',\n",
    "    'EEG020':'FC1',\n",
    "    'EEG021':'FC2',\n",
    "    'EEG022':'FC6',\n",
    "    'EEG027':'C5',\n",
    "    'EEG028':'C3',\n",
    "    'EEG029':'C1',\n",
    "    'EEG030':'Cz',\n",
    "    'EEG031':'C2',\n",
    "    'EEG032':'C4',\n",
    "    'EEG033':'C6',\n",
    "    'EEG038':'CP3',\n",
    "    'EEG039':'CP1',\n",
    "    'EEG040': 'CP2',\n",
    "    'EEG041': 'CP4',\n",
    "    'EEG001': 'Fp1',\n",
    "    'EEG002': 'Fpz',\n",
    "    'EEG003': 'Fp2',\n",
    "    'EEG004': 'AF7',\n",
    "    'EEG005': 'AF3',\n",
    "    'EEG006': 'AF4',\n",
    "    'EEG008': 'F7',\n",
    "    'EEG009': 'F5',\n",
    "    'EEG010': 'F3',\n",
    "    'EEG011': 'F1',\n",
    "    'EEG012': 'Fz',\n",
    "    'EEG013': 'F2',\n",
    "    'EEG014': 'F4',\n",
    "    'EEG015': 'F6',\n",
    "    'EEG016': 'F8',\n",
    "    'EEG018': 'FT7',\n",
    "    'EEG023': 'FT8',\n",
    "    'EEG034': 'T8',\n",
    "    'EEG035': 'T10',\n",
    "    'EEG045': 'P5',\n",
    "    'EEG046': 'P3',\n",
    "    'EEG047': 'P1',\n",
    "    'EEG048': 'Pz',\n",
    "    'EEG049': 'P2',\n",
    "    'EEG050': 'P4',\n",
    "    'EEG051': 'P6',\n",
    "    'EEG052': 'P8',\n",
    "    'EEG053': 'PO7',\n",
    "    'EEG054': 'PO3',\n",
    "    'EEG055': 'PO4',\n",
    "    'EEG056': 'PO8',\n",
    "    'EEG057': 'O1',\n",
    "    'EEG058': 'Oz',\n",
    "    'EEG059': 'O2',\n",
    "    'EEG060': 'Iz',\n",
    "    \"EEG007\": 'AF6',\n",
    "    \"EEG017\": 'FT9',\n",
    "    \"EEG024\": 'FT10',\n",
    "    \"EEG025\": 'T9',\n",
    "    \"EEG026\": 'T7',\n",
    "    \"EEG042\": 'TP8',\n",
    "    \"EEG043\": 'TP10',\n",
    "    \"EEG044\": 'P7',\n",
    "    \"EEG061\": 'VEOG',\n",
    "    \"EEG062\": 'Misc',\n",
    "    \"EEG063\": 'ECG',\n",
    "    \"EEG064\": 'M2',\n",
    "    \"EEG036\": 'TP9',\n",
    "    \"EEG037\": 'TP7'\n",
    "}"
   ]
  },
  {
   "cell_type": "code",
   "execution_count": 4,
   "metadata": {},
   "outputs": [],
   "source": [
    "df_participants = df_participants.drop(index=range(69))"
   ]
  },
  {
   "cell_type": "code",
   "execution_count": 5,
   "metadata": {},
   "outputs": [
    {
     "name": "stdout",
     "output_type": "stream",
     "text": [
      "   participant_id       type\n",
      "69       sub-2221    Control\n",
      "70       sub-2222    Control\n",
      "71       sub-2223    Control\n",
      "72      sub-2140A    Control\n",
      "73      sub-2170A  Psychosis\n",
      "74      sub-2174A  Psychosis\n",
      "75      sub-2176A  Psychosis\n",
      "76      sub-2177A  Psychosis\n",
      "77      sub-2184A  Psychosis\n",
      "78      sub-2193A    Control\n",
      "79      sub-2214A    Control\n",
      "80      sub-2217A  Psychosis\n",
      "81      sub-2221A    Control\n"
     ]
    }
   ],
   "source": [
    "print(df_participants)"
   ]
  },
  {
   "cell_type": "code",
   "execution_count": 6,
   "id": "3b249c15-a0df-4400-a7cb-a75ad5035b8b",
   "metadata": {},
   "outputs": [
    {
     "name": "stdout",
     "output_type": "stream",
     "text": [
      "Extracting parameters from ../ds003944/sub-2221/eeg/sub-2221_task-Rest_eeg.vhdr...\n",
      "Setting channel info structure...\n",
      "Reading 0 ... 303999  =      0.000 ...   303.999 secs...\n",
      "Setting up band-stop filter\n",
      "\n",
      "FIR filter parameters\n",
      "---------------------\n",
      "Designing a one-pass, zero-phase, non-causal bandstop filter:\n",
      "- Windowed time-domain design (firwin) method\n",
      "- Hamming window with 0.0194 passband ripple and 53 dB stopband attenuation\n",
      "- Lower transition bandwidth: 0.50 Hz\n",
      "- Upper transition bandwidth: 0.50 Hz\n",
      "- Filter length: 6601 samples (6.601 sec)\n",
      "\n"
     ]
    },
    {
     "name": "stderr",
     "output_type": "stream",
     "text": [
      "[Parallel(n_jobs=1)]: Using backend SequentialBackend with 1 concurrent workers.\n",
      "[Parallel(n_jobs=1)]: Done   1 out of   1 | elapsed:    0.0s remaining:    0.0s\n",
      "[Parallel(n_jobs=1)]: Done   2 out of   2 | elapsed:    0.0s remaining:    0.0s\n",
      "[Parallel(n_jobs=1)]: Done   3 out of   3 | elapsed:    0.0s remaining:    0.0s\n",
      "[Parallel(n_jobs=1)]: Done   4 out of   4 | elapsed:    0.0s remaining:    0.0s\n"
     ]
    },
    {
     "name": "stdout",
     "output_type": "stream",
     "text": [
      "Filtering raw data in 1 contiguous segment\n",
      "Setting up band-pass filter from 0.05 - 30 Hz\n",
      "\n",
      "IIR filter parameters\n",
      "---------------------\n",
      "Butterworth bandpass zero-phase (two-pass forward and reverse) non-causal filter:\n",
      "- Filter order 16 (effective, after forward-backward)\n",
      "- Cutoffs at 0.05, 30.00 Hz: -6.02, -6.02 dB\n",
      "\n"
     ]
    },
    {
     "name": "stderr",
     "output_type": "stream",
     "text": [
      "[Parallel(n_jobs=1)]: Done  61 out of  61 | elapsed:    1.0s finished\n"
     ]
    },
    {
     "name": "stdout",
     "output_type": "stream",
     "text": [
      "EEG channel type selected for re-referencing\n",
      "Applying average reference.\n",
      "Applying a custom ('EEG',) reference.\n",
      "EEG channel type selected for re-referencing\n",
      "Applying a custom ('EEG',) reference.\n",
      "{}\n",
      "Not setting metadata\n",
      "10 matching events found\n",
      "No baseline correction applied\n",
      "0 projection items activated\n",
      "Using data from preloaded Raw for 10 events and 30000 original time points ...\n",
      "0 bad epochs dropped\n",
      "Fitting ICA to data using 61 channels (please be patient, this may take a while)\n",
      "Selecting by number: 50 components\n",
      " \n",
      "Fitting ICA took 437.6s.\n",
      "Using EOG channel: VEOG\n",
      "Applying ICA to Epochs instance\n",
      "    Transforming to ICA space (50 components)\n",
      "    Zeroing out 3 ICA components\n",
      "    Projecting back using 61 PCA components\n",
      "Interpolating bad channels\n",
      "    Automatic origin fit: head of radius 97.1 mm\n",
      "Computing interpolation matrix from 57 sensor positions\n",
      "Interpolating 4 sensors\n",
      "Running autoreject on ch_type=eeg\n"
     ]
    },
    {
     "name": "stderr",
     "output_type": "stream",
     "text": [
      "c:\\dev\\python\\.venv\\Lib\\site-packages\\autoreject\\utils.py:65: UserWarning: 4 channels are marked as bad. These will be ignored. If you want them to be considered by autoreject please remove them from epochs.info[\"bads\"].\n",
      "  warnings.warn(\n"
     ]
    },
    {
     "data": {
      "application/vnd.jupyter.widget-view+json": {
       "model_id": "8b10b6303844499bbf73d593db65e7b3",
       "version_major": 2,
       "version_minor": 0
      },
      "text/plain": [
       "  0%|          | Creating augmented epochs : 0/57 [00:00<?,       ?it/s]"
      ]
     },
     "metadata": {},
     "output_type": "display_data"
    },
    {
     "data": {
      "application/vnd.jupyter.widget-view+json": {
       "model_id": "5f7c69ab01184beca4a7b6a581267be3",
       "version_major": 2,
       "version_minor": 0
      },
      "text/plain": [
       "  0%|          | Computing thresholds ... : 0/57 [00:00<?,       ?it/s]"
      ]
     },
     "metadata": {},
     "output_type": "display_data"
    },
    {
     "data": {
      "application/vnd.jupyter.widget-view+json": {
       "model_id": "de245ab670ac4d1e873deea7beb98f0e",
       "version_major": 2,
       "version_minor": 0
      },
      "text/plain": [
       "  0%|          | Repairing epochs : 0/10 [00:00<?,       ?it/s]"
      ]
     },
     "metadata": {},
     "output_type": "display_data"
    },
    {
     "data": {
      "application/vnd.jupyter.widget-view+json": {
       "model_id": "46bbb273966a403c99976129d892f5b2",
       "version_major": 2,
       "version_minor": 0
      },
      "text/plain": [
       "  0%|          | n_interp : 0/3 [00:00<?,       ?it/s]"
      ]
     },
     "metadata": {},
     "output_type": "display_data"
    },
    {
     "data": {
      "application/vnd.jupyter.widget-view+json": {
       "model_id": "775ebc2e85a8479eab8be01fca372a7d",
       "version_major": 2,
       "version_minor": 0
      },
      "text/plain": [
       "  0%|          | Repairing epochs : 0/10 [00:00<?,       ?it/s]"
      ]
     },
     "metadata": {},
     "output_type": "display_data"
    },
    {
     "data": {
      "application/vnd.jupyter.widget-view+json": {
       "model_id": "5d1dabe4e95141f3828881c941e929bb",
       "version_major": 2,
       "version_minor": 0
      },
      "text/plain": [
       "  0%|          | Fold : 0/10 [00:00<?,       ?it/s]"
      ]
     },
     "metadata": {},
     "output_type": "display_data"
    },
    {
     "data": {
      "application/vnd.jupyter.widget-view+json": {
       "model_id": "e2a4e98b25bb4ee9b63196aaa5f9c613",
       "version_major": 2,
       "version_minor": 0
      },
      "text/plain": [
       "  0%|          | Repairing epochs : 0/10 [00:00<?,       ?it/s]"
      ]
     },
     "metadata": {},
     "output_type": "display_data"
    },
    {
     "data": {
      "application/vnd.jupyter.widget-view+json": {
       "model_id": "6db790ef58694fe49e558eca0651bd56",
       "version_major": 2,
       "version_minor": 0
      },
      "text/plain": [
       "  0%|          | Fold : 0/10 [00:00<?,       ?it/s]"
      ]
     },
     "metadata": {},
     "output_type": "display_data"
    },
    {
     "data": {
      "application/vnd.jupyter.widget-view+json": {
       "model_id": "8d241245be8840008c56a12cbfd1b9df",
       "version_major": 2,
       "version_minor": 0
      },
      "text/plain": [
       "  0%|          | Repairing epochs : 0/10 [00:00<?,       ?it/s]"
      ]
     },
     "metadata": {},
     "output_type": "display_data"
    },
    {
     "data": {
      "application/vnd.jupyter.widget-view+json": {
       "model_id": "df6132bdd6e74a66a07047e477bcffac",
       "version_major": 2,
       "version_minor": 0
      },
      "text/plain": [
       "  0%|          | Fold : 0/10 [00:00<?,       ?it/s]"
      ]
     },
     "metadata": {},
     "output_type": "display_data"
    },
    {
     "name": "stdout",
     "output_type": "stream",
     "text": [
      "\n",
      "\n",
      "\n",
      "\n",
      "Estimated consensus=0.60 and n_interpolate=32\n"
     ]
    },
    {
     "name": "stderr",
     "output_type": "stream",
     "text": [
      "c:\\dev\\python\\.venv\\Lib\\site-packages\\autoreject\\utils.py:65: UserWarning: 4 channels are marked as bad. These will be ignored. If you want them to be considered by autoreject please remove them from epochs.info[\"bads\"].\n",
      "  warnings.warn(\n"
     ]
    },
    {
     "data": {
      "application/vnd.jupyter.widget-view+json": {
       "model_id": "87c9f8853fda4fabae68a6948f2f72c7",
       "version_major": 2,
       "version_minor": 0
      },
      "text/plain": [
       "  0%|          | Repairing epochs : 0/10 [00:00<?,       ?it/s]"
      ]
     },
     "metadata": {},
     "output_type": "display_data"
    },
    {
     "name": "stdout",
     "output_type": "stream",
     "text": [
      "Dropped 1 epoch: 8\n",
      "Extracting parameters from ../ds003944/sub-2222/eeg/sub-2222_task-Rest_eeg.vhdr...\n",
      "Setting channel info structure...\n",
      "Reading 0 ... 305999  =      0.000 ...   305.999 secs...\n",
      "Setting up band-stop filter\n",
      "\n",
      "FIR filter parameters\n",
      "---------------------\n",
      "Designing a one-pass, zero-phase, non-causal bandstop filter:\n",
      "- Windowed time-domain design (firwin) method\n",
      "- Hamming window with 0.0194 passband ripple and 53 dB stopband attenuation\n",
      "- Lower transition bandwidth: 0.50 Hz\n",
      "- Upper transition bandwidth: 0.50 Hz\n",
      "- Filter length: 6601 samples (6.601 sec)\n",
      "\n"
     ]
    },
    {
     "name": "stderr",
     "output_type": "stream",
     "text": [
      "[Parallel(n_jobs=1)]: Using backend SequentialBackend with 1 concurrent workers.\n",
      "[Parallel(n_jobs=1)]: Done   1 out of   1 | elapsed:    0.0s remaining:    0.0s\n",
      "[Parallel(n_jobs=1)]: Done   2 out of   2 | elapsed:    0.0s remaining:    0.0s\n",
      "[Parallel(n_jobs=1)]: Done   3 out of   3 | elapsed:    0.0s remaining:    0.0s\n",
      "[Parallel(n_jobs=1)]: Done   4 out of   4 | elapsed:    0.0s remaining:    0.0s\n"
     ]
    },
    {
     "name": "stdout",
     "output_type": "stream",
     "text": [
      "Filtering raw data in 1 contiguous segment\n",
      "Setting up band-pass filter from 0.05 - 30 Hz\n",
      "\n",
      "IIR filter parameters\n",
      "---------------------\n",
      "Butterworth bandpass zero-phase (two-pass forward and reverse) non-causal filter:\n",
      "- Filter order 16 (effective, after forward-backward)\n",
      "- Cutoffs at 0.05, 30.00 Hz: -6.02, -6.02 dB\n",
      "\n"
     ]
    },
    {
     "name": "stderr",
     "output_type": "stream",
     "text": [
      "[Parallel(n_jobs=1)]: Done  61 out of  61 | elapsed:    1.0s finished\n"
     ]
    },
    {
     "name": "stdout",
     "output_type": "stream",
     "text": [
      "EEG channel type selected for re-referencing\n",
      "Applying average reference.\n",
      "Applying a custom ('EEG',) reference.\n",
      "EEG channel type selected for re-referencing\n",
      "Applying a custom ('EEG',) reference.\n",
      "{}\n",
      "Not setting metadata\n",
      "10 matching events found\n",
      "No baseline correction applied\n",
      "0 projection items activated\n",
      "Using data from preloaded Raw for 10 events and 30000 original time points ...\n",
      "0 bad epochs dropped\n",
      "Fitting ICA to data using 61 channels (please be patient, this may take a while)\n",
      "Selecting by number: 50 components\n",
      " \n",
      "Fitting ICA took 515.0s.\n",
      "Using EOG channel: VEOG\n",
      "Applying ICA to Epochs instance\n",
      "    Transforming to ICA space (50 components)\n",
      "    Zeroing out 1 ICA component\n",
      "    Projecting back using 61 PCA components\n",
      "Interpolating bad channels\n",
      "    Automatic origin fit: head of radius 97.1 mm\n",
      "Computing interpolation matrix from 57 sensor positions\n",
      "Interpolating 4 sensors\n",
      "Running autoreject on ch_type=eeg\n"
     ]
    },
    {
     "name": "stderr",
     "output_type": "stream",
     "text": [
      "c:\\dev\\python\\.venv\\Lib\\site-packages\\autoreject\\utils.py:65: UserWarning: 4 channels are marked as bad. These will be ignored. If you want them to be considered by autoreject please remove them from epochs.info[\"bads\"].\n",
      "  warnings.warn(\n"
     ]
    },
    {
     "data": {
      "application/vnd.jupyter.widget-view+json": {
       "model_id": "4556798da3db47208a044def85bdccc5",
       "version_major": 2,
       "version_minor": 0
      },
      "text/plain": [
       "  0%|          | Creating augmented epochs : 0/57 [00:00<?,       ?it/s]"
      ]
     },
     "metadata": {},
     "output_type": "display_data"
    },
    {
     "data": {
      "application/vnd.jupyter.widget-view+json": {
       "model_id": "67964f7066c34059a521c73005808f40",
       "version_major": 2,
       "version_minor": 0
      },
      "text/plain": [
       "  0%|          | Computing thresholds ... : 0/57 [00:00<?,       ?it/s]"
      ]
     },
     "metadata": {},
     "output_type": "display_data"
    },
    {
     "data": {
      "application/vnd.jupyter.widget-view+json": {
       "model_id": "54ee9b8355704468950bd25ea809540f",
       "version_major": 2,
       "version_minor": 0
      },
      "text/plain": [
       "  0%|          | Repairing epochs : 0/10 [00:00<?,       ?it/s]"
      ]
     },
     "metadata": {},
     "output_type": "display_data"
    },
    {
     "data": {
      "application/vnd.jupyter.widget-view+json": {
       "model_id": "63adfbb40f3648e5a111a3e6ab470fc1",
       "version_major": 2,
       "version_minor": 0
      },
      "text/plain": [
       "  0%|          | n_interp : 0/3 [00:00<?,       ?it/s]"
      ]
     },
     "metadata": {},
     "output_type": "display_data"
    },
    {
     "data": {
      "application/vnd.jupyter.widget-view+json": {
       "model_id": "95a56a8617f14974b929729fad532b2c",
       "version_major": 2,
       "version_minor": 0
      },
      "text/plain": [
       "  0%|          | Repairing epochs : 0/10 [00:00<?,       ?it/s]"
      ]
     },
     "metadata": {},
     "output_type": "display_data"
    },
    {
     "data": {
      "application/vnd.jupyter.widget-view+json": {
       "model_id": "8a701d2460b04db493ab31e291717e5f",
       "version_major": 2,
       "version_minor": 0
      },
      "text/plain": [
       "  0%|          | Fold : 0/10 [00:00<?,       ?it/s]"
      ]
     },
     "metadata": {},
     "output_type": "display_data"
    },
    {
     "data": {
      "application/vnd.jupyter.widget-view+json": {
       "model_id": "bed6e85fc0f548cd8f66e5f40448b7e0",
       "version_major": 2,
       "version_minor": 0
      },
      "text/plain": [
       "  0%|          | Repairing epochs : 0/10 [00:00<?,       ?it/s]"
      ]
     },
     "metadata": {},
     "output_type": "display_data"
    },
    {
     "data": {
      "application/vnd.jupyter.widget-view+json": {
       "model_id": "ba0e67ddb8944dd9aca1d261cfc28e3e",
       "version_major": 2,
       "version_minor": 0
      },
      "text/plain": [
       "  0%|          | Fold : 0/10 [00:00<?,       ?it/s]"
      ]
     },
     "metadata": {},
     "output_type": "display_data"
    },
    {
     "data": {
      "application/vnd.jupyter.widget-view+json": {
       "model_id": "d56f05a7d6694e848f03a06452493b88",
       "version_major": 2,
       "version_minor": 0
      },
      "text/plain": [
       "  0%|          | Repairing epochs : 0/10 [00:00<?,       ?it/s]"
      ]
     },
     "metadata": {},
     "output_type": "display_data"
    },
    {
     "data": {
      "application/vnd.jupyter.widget-view+json": {
       "model_id": "d10c5ea0d12643d4a9e05677926867b5",
       "version_major": 2,
       "version_minor": 0
      },
      "text/plain": [
       "  0%|          | Fold : 0/10 [00:00<?,       ?it/s]"
      ]
     },
     "metadata": {},
     "output_type": "display_data"
    },
    {
     "name": "stdout",
     "output_type": "stream",
     "text": [
      "\n",
      "\n",
      "\n",
      "\n",
      "Estimated consensus=0.60 and n_interpolate=32\n"
     ]
    },
    {
     "name": "stderr",
     "output_type": "stream",
     "text": [
      "c:\\dev\\python\\.venv\\Lib\\site-packages\\autoreject\\utils.py:65: UserWarning: 4 channels are marked as bad. These will be ignored. If you want them to be considered by autoreject please remove them from epochs.info[\"bads\"].\n",
      "  warnings.warn(\n"
     ]
    },
    {
     "data": {
      "application/vnd.jupyter.widget-view+json": {
       "model_id": "32358f086d1b406ea5bb5c2fd6540d6f",
       "version_major": 2,
       "version_minor": 0
      },
      "text/plain": [
       "  0%|          | Repairing epochs : 0/10 [00:00<?,       ?it/s]"
      ]
     },
     "metadata": {},
     "output_type": "display_data"
    },
    {
     "name": "stdout",
     "output_type": "stream",
     "text": [
      "No bad epochs were found for your data. Returning a copy of the data you wanted to clean. Interpolation may have been done.\n",
      "Extracting parameters from ../ds003944/sub-2223/eeg/sub-2223_task-Rest_eeg.vhdr...\n",
      "Setting channel info structure...\n",
      "Reading 0 ... 300999  =      0.000 ...   300.999 secs...\n",
      "Extracting parameters from ../ds003944/sub-2140A/eeg/sub-2140A_task-Rest_eeg.vhdr...\n",
      "Setting channel info structure...\n",
      "Reading 0 ... 910499  =      0.000 ...   303.500 secs...\n",
      "Extracting parameters from ../ds003944/sub-2170A/eeg/sub-2170A_task-Rest_eeg.vhdr...\n",
      "Setting channel info structure...\n",
      "Reading 0 ... 301999  =      0.000 ...   301.999 secs...\n",
      "Setting up band-stop filter\n",
      "\n",
      "FIR filter parameters\n",
      "---------------------\n",
      "Designing a one-pass, zero-phase, non-causal bandstop filter:\n",
      "- Windowed time-domain design (firwin) method\n",
      "- Hamming window with 0.0194 passband ripple and 53 dB stopband attenuation\n",
      "- Lower transition bandwidth: 0.50 Hz\n",
      "- Upper transition bandwidth: 0.50 Hz\n",
      "- Filter length: 6601 samples (6.601 sec)\n",
      "\n"
     ]
    },
    {
     "name": "stderr",
     "output_type": "stream",
     "text": [
      "[Parallel(n_jobs=1)]: Using backend SequentialBackend with 1 concurrent workers.\n",
      "[Parallel(n_jobs=1)]: Done   1 out of   1 | elapsed:    0.0s remaining:    0.0s\n",
      "[Parallel(n_jobs=1)]: Done   2 out of   2 | elapsed:    0.0s remaining:    0.0s\n",
      "[Parallel(n_jobs=1)]: Done   3 out of   3 | elapsed:    0.0s remaining:    0.0s\n",
      "[Parallel(n_jobs=1)]: Done   4 out of   4 | elapsed:    0.0s remaining:    0.0s\n"
     ]
    },
    {
     "name": "stdout",
     "output_type": "stream",
     "text": [
      "Filtering raw data in 1 contiguous segment\n",
      "Setting up band-pass filter from 0.05 - 30 Hz\n",
      "\n",
      "IIR filter parameters\n",
      "---------------------\n",
      "Butterworth bandpass zero-phase (two-pass forward and reverse) non-causal filter:\n",
      "- Filter order 16 (effective, after forward-backward)\n",
      "- Cutoffs at 0.05, 30.00 Hz: -6.02, -6.02 dB\n",
      "\n"
     ]
    },
    {
     "name": "stderr",
     "output_type": "stream",
     "text": [
      "[Parallel(n_jobs=1)]: Done  61 out of  61 | elapsed:    0.9s finished\n"
     ]
    },
    {
     "name": "stdout",
     "output_type": "stream",
     "text": [
      "EEG channel type selected for re-referencing\n",
      "Applying average reference.\n",
      "Applying a custom ('EEG',) reference.\n",
      "EEG channel type selected for re-referencing\n",
      "Applying a custom ('EEG',) reference.\n",
      "{}\n",
      "Not setting metadata\n",
      "10 matching events found\n",
      "No baseline correction applied\n",
      "0 projection items activated\n",
      "Using data from preloaded Raw for 10 events and 30000 original time points ...\n",
      "0 bad epochs dropped\n",
      "Fitting ICA to data using 61 channels (please be patient, this may take a while)\n",
      "Selecting by number: 50 components\n",
      " \n",
      "Fitting ICA took 450.4s.\n",
      "Using EOG channel: VEOG\n",
      "Applying ICA to Epochs instance\n",
      "    Transforming to ICA space (50 components)\n",
      "    Zeroing out 2 ICA components\n",
      "    Projecting back using 61 PCA components\n",
      "Interpolating bad channels\n",
      "    Automatic origin fit: head of radius 97.1 mm\n",
      "Computing interpolation matrix from 57 sensor positions\n",
      "Interpolating 4 sensors\n",
      "Running autoreject on ch_type=eeg\n"
     ]
    },
    {
     "name": "stderr",
     "output_type": "stream",
     "text": [
      "c:\\dev\\python\\.venv\\Lib\\site-packages\\autoreject\\utils.py:65: UserWarning: 4 channels are marked as bad. These will be ignored. If you want them to be considered by autoreject please remove them from epochs.info[\"bads\"].\n",
      "  warnings.warn(\n"
     ]
    },
    {
     "data": {
      "application/vnd.jupyter.widget-view+json": {
       "model_id": "b387e0abaa0f42c7ad278bc4cfbaee84",
       "version_major": 2,
       "version_minor": 0
      },
      "text/plain": [
       "  0%|          | Creating augmented epochs : 0/57 [00:00<?,       ?it/s]"
      ]
     },
     "metadata": {},
     "output_type": "display_data"
    },
    {
     "data": {
      "application/vnd.jupyter.widget-view+json": {
       "model_id": "35e3a166f6d6414bb817e345d746c1b5",
       "version_major": 2,
       "version_minor": 0
      },
      "text/plain": [
       "  0%|          | Computing thresholds ... : 0/57 [00:00<?,       ?it/s]"
      ]
     },
     "metadata": {},
     "output_type": "display_data"
    },
    {
     "data": {
      "application/vnd.jupyter.widget-view+json": {
       "model_id": "75d0896b28e8420da8398acfb67b2535",
       "version_major": 2,
       "version_minor": 0
      },
      "text/plain": [
       "  0%|          | Repairing epochs : 0/10 [00:00<?,       ?it/s]"
      ]
     },
     "metadata": {},
     "output_type": "display_data"
    },
    {
     "data": {
      "application/vnd.jupyter.widget-view+json": {
       "model_id": "0736864d4c494222aa35676d0b554093",
       "version_major": 2,
       "version_minor": 0
      },
      "text/plain": [
       "  0%|          | n_interp : 0/3 [00:00<?,       ?it/s]"
      ]
     },
     "metadata": {},
     "output_type": "display_data"
    },
    {
     "data": {
      "application/vnd.jupyter.widget-view+json": {
       "model_id": "9014bf29cf604a8290fb085c72cc70c8",
       "version_major": 2,
       "version_minor": 0
      },
      "text/plain": [
       "  0%|          | Repairing epochs : 0/10 [00:00<?,       ?it/s]"
      ]
     },
     "metadata": {},
     "output_type": "display_data"
    },
    {
     "data": {
      "application/vnd.jupyter.widget-view+json": {
       "model_id": "7f223bcdce4c4b1ebd4291dc32681767",
       "version_major": 2,
       "version_minor": 0
      },
      "text/plain": [
       "  0%|          | Fold : 0/10 [00:00<?,       ?it/s]"
      ]
     },
     "metadata": {},
     "output_type": "display_data"
    },
    {
     "data": {
      "application/vnd.jupyter.widget-view+json": {
       "model_id": "15a5da16f5614d31b9b38dec5ac42b0a",
       "version_major": 2,
       "version_minor": 0
      },
      "text/plain": [
       "  0%|          | Repairing epochs : 0/10 [00:00<?,       ?it/s]"
      ]
     },
     "metadata": {},
     "output_type": "display_data"
    },
    {
     "data": {
      "application/vnd.jupyter.widget-view+json": {
       "model_id": "2327e3afe8f24e709cc88c0eb9332dff",
       "version_major": 2,
       "version_minor": 0
      },
      "text/plain": [
       "  0%|          | Fold : 0/10 [00:00<?,       ?it/s]"
      ]
     },
     "metadata": {},
     "output_type": "display_data"
    },
    {
     "data": {
      "application/vnd.jupyter.widget-view+json": {
       "model_id": "dc1136ebb8e94375af398494c843f3d3",
       "version_major": 2,
       "version_minor": 0
      },
      "text/plain": [
       "  0%|          | Repairing epochs : 0/10 [00:00<?,       ?it/s]"
      ]
     },
     "metadata": {},
     "output_type": "display_data"
    },
    {
     "data": {
      "application/vnd.jupyter.widget-view+json": {
       "model_id": "02d2690682cc48739945abfebaa875c6",
       "version_major": 2,
       "version_minor": 0
      },
      "text/plain": [
       "  0%|          | Fold : 0/10 [00:00<?,       ?it/s]"
      ]
     },
     "metadata": {},
     "output_type": "display_data"
    },
    {
     "name": "stdout",
     "output_type": "stream",
     "text": [
      "\n",
      "\n",
      "\n",
      "\n",
      "Estimated consensus=0.80 and n_interpolate=32\n"
     ]
    },
    {
     "name": "stderr",
     "output_type": "stream",
     "text": [
      "c:\\dev\\python\\.venv\\Lib\\site-packages\\autoreject\\utils.py:65: UserWarning: 4 channels are marked as bad. These will be ignored. If you want them to be considered by autoreject please remove them from epochs.info[\"bads\"].\n",
      "  warnings.warn(\n"
     ]
    },
    {
     "data": {
      "application/vnd.jupyter.widget-view+json": {
       "model_id": "e64784e58bfc42c4afb6e3d1ca6ebf2d",
       "version_major": 2,
       "version_minor": 0
      },
      "text/plain": [
       "  0%|          | Repairing epochs : 0/10 [00:00<?,       ?it/s]"
      ]
     },
     "metadata": {},
     "output_type": "display_data"
    },
    {
     "name": "stdout",
     "output_type": "stream",
     "text": [
      "No bad epochs were found for your data. Returning a copy of the data you wanted to clean. Interpolation may have been done.\n",
      "Extracting parameters from ../ds003944/sub-2174A/eeg/sub-2174A_task-Rest_eeg.vhdr...\n",
      "Setting channel info structure...\n",
      "Reading 0 ... 300999  =      0.000 ...   300.999 secs...\n",
      "Setting up band-stop filter\n",
      "\n",
      "FIR filter parameters\n",
      "---------------------\n",
      "Designing a one-pass, zero-phase, non-causal bandstop filter:\n",
      "- Windowed time-domain design (firwin) method\n",
      "- Hamming window with 0.0194 passband ripple and 53 dB stopband attenuation\n",
      "- Lower transition bandwidth: 0.50 Hz\n",
      "- Upper transition bandwidth: 0.50 Hz\n",
      "- Filter length: 6601 samples (6.601 sec)\n",
      "\n"
     ]
    },
    {
     "name": "stderr",
     "output_type": "stream",
     "text": [
      "[Parallel(n_jobs=1)]: Using backend SequentialBackend with 1 concurrent workers.\n",
      "[Parallel(n_jobs=1)]: Done   1 out of   1 | elapsed:    0.0s remaining:    0.0s\n",
      "[Parallel(n_jobs=1)]: Done   2 out of   2 | elapsed:    0.0s remaining:    0.0s\n",
      "[Parallel(n_jobs=1)]: Done   3 out of   3 | elapsed:    0.0s remaining:    0.0s\n",
      "[Parallel(n_jobs=1)]: Done   4 out of   4 | elapsed:    0.0s remaining:    0.0s\n"
     ]
    },
    {
     "name": "stdout",
     "output_type": "stream",
     "text": [
      "Filtering raw data in 1 contiguous segment\n",
      "Setting up band-pass filter from 0.05 - 30 Hz\n",
      "\n",
      "IIR filter parameters\n",
      "---------------------\n",
      "Butterworth bandpass zero-phase (two-pass forward and reverse) non-causal filter:\n",
      "- Filter order 16 (effective, after forward-backward)\n",
      "- Cutoffs at 0.05, 30.00 Hz: -6.02, -6.02 dB\n",
      "\n"
     ]
    },
    {
     "name": "stderr",
     "output_type": "stream",
     "text": [
      "[Parallel(n_jobs=1)]: Done  61 out of  61 | elapsed:    1.1s finished\n"
     ]
    },
    {
     "name": "stdout",
     "output_type": "stream",
     "text": [
      "EEG channel type selected for re-referencing\n",
      "Applying average reference.\n",
      "Applying a custom ('EEG',) reference.\n",
      "EEG channel type selected for re-referencing\n",
      "Applying a custom ('EEG',) reference.\n",
      "{}\n",
      "Not setting metadata\n",
      "10 matching events found\n",
      "No baseline correction applied\n",
      "0 projection items activated\n",
      "Using data from preloaded Raw for 10 events and 30000 original time points ...\n",
      "0 bad epochs dropped\n",
      "Fitting ICA to data using 61 channels (please be patient, this may take a while)\n",
      "Selecting by number: 50 components\n",
      " \n",
      "Fitting ICA took 464.9s.\n",
      "Using EOG channel: VEOG\n",
      "Applying ICA to Epochs instance\n",
      "    Transforming to ICA space (50 components)\n",
      "    Zeroing out 1 ICA component\n",
      "    Projecting back using 61 PCA components\n",
      "Interpolating bad channels\n",
      "    Automatic origin fit: head of radius 97.1 mm\n",
      "Computing interpolation matrix from 57 sensor positions\n",
      "Interpolating 4 sensors\n",
      "Running autoreject on ch_type=eeg\n"
     ]
    },
    {
     "name": "stderr",
     "output_type": "stream",
     "text": [
      "c:\\dev\\python\\.venv\\Lib\\site-packages\\autoreject\\utils.py:65: UserWarning: 4 channels are marked as bad. These will be ignored. If you want them to be considered by autoreject please remove them from epochs.info[\"bads\"].\n",
      "  warnings.warn(\n"
     ]
    },
    {
     "data": {
      "application/vnd.jupyter.widget-view+json": {
       "model_id": "fbbfdd25ad194b77b82164b41a4edbc3",
       "version_major": 2,
       "version_minor": 0
      },
      "text/plain": [
       "  0%|          | Creating augmented epochs : 0/57 [00:00<?,       ?it/s]"
      ]
     },
     "metadata": {},
     "output_type": "display_data"
    },
    {
     "data": {
      "application/vnd.jupyter.widget-view+json": {
       "model_id": "5e419e05dd1743fc8f30462571387627",
       "version_major": 2,
       "version_minor": 0
      },
      "text/plain": [
       "  0%|          | Computing thresholds ... : 0/57 [00:00<?,       ?it/s]"
      ]
     },
     "metadata": {},
     "output_type": "display_data"
    },
    {
     "data": {
      "application/vnd.jupyter.widget-view+json": {
       "model_id": "14f2edbe0bfa4b64a62747bda3415800",
       "version_major": 2,
       "version_minor": 0
      },
      "text/plain": [
       "  0%|          | Repairing epochs : 0/10 [00:00<?,       ?it/s]"
      ]
     },
     "metadata": {},
     "output_type": "display_data"
    },
    {
     "data": {
      "application/vnd.jupyter.widget-view+json": {
       "model_id": "0c94e00be1b8464e83b1b629f9f2a629",
       "version_major": 2,
       "version_minor": 0
      },
      "text/plain": [
       "  0%|          | n_interp : 0/3 [00:00<?,       ?it/s]"
      ]
     },
     "metadata": {},
     "output_type": "display_data"
    },
    {
     "data": {
      "application/vnd.jupyter.widget-view+json": {
       "model_id": "725177062b1e46b0b9a76dc5b3bd10f4",
       "version_major": 2,
       "version_minor": 0
      },
      "text/plain": [
       "  0%|          | Repairing epochs : 0/10 [00:00<?,       ?it/s]"
      ]
     },
     "metadata": {},
     "output_type": "display_data"
    },
    {
     "data": {
      "application/vnd.jupyter.widget-view+json": {
       "model_id": "9005db60fd62450ca1f679d9809e6e11",
       "version_major": 2,
       "version_minor": 0
      },
      "text/plain": [
       "  0%|          | Fold : 0/10 [00:00<?,       ?it/s]"
      ]
     },
     "metadata": {},
     "output_type": "display_data"
    },
    {
     "data": {
      "application/vnd.jupyter.widget-view+json": {
       "model_id": "62ae95b5e09e49cd95c44449261a0e67",
       "version_major": 2,
       "version_minor": 0
      },
      "text/plain": [
       "  0%|          | Repairing epochs : 0/10 [00:00<?,       ?it/s]"
      ]
     },
     "metadata": {},
     "output_type": "display_data"
    },
    {
     "data": {
      "application/vnd.jupyter.widget-view+json": {
       "model_id": "b359bfd40df34928b28766ae1e87db96",
       "version_major": 2,
       "version_minor": 0
      },
      "text/plain": [
       "  0%|          | Fold : 0/10 [00:00<?,       ?it/s]"
      ]
     },
     "metadata": {},
     "output_type": "display_data"
    },
    {
     "data": {
      "application/vnd.jupyter.widget-view+json": {
       "model_id": "8f21a129b9594240bea156f6527302ed",
       "version_major": 2,
       "version_minor": 0
      },
      "text/plain": [
       "  0%|          | Repairing epochs : 0/10 [00:00<?,       ?it/s]"
      ]
     },
     "metadata": {},
     "output_type": "display_data"
    },
    {
     "data": {
      "application/vnd.jupyter.widget-view+json": {
       "model_id": "d36d5c56e6d1430cacc04b7e12efc34d",
       "version_major": 2,
       "version_minor": 0
      },
      "text/plain": [
       "  0%|          | Fold : 0/10 [00:00<?,       ?it/s]"
      ]
     },
     "metadata": {},
     "output_type": "display_data"
    },
    {
     "name": "stdout",
     "output_type": "stream",
     "text": [
      "\n",
      "\n",
      "\n",
      "\n",
      "Estimated consensus=0.60 and n_interpolate=32\n"
     ]
    },
    {
     "name": "stderr",
     "output_type": "stream",
     "text": [
      "c:\\dev\\python\\.venv\\Lib\\site-packages\\autoreject\\utils.py:65: UserWarning: 4 channels are marked as bad. These will be ignored. If you want them to be considered by autoreject please remove them from epochs.info[\"bads\"].\n",
      "  warnings.warn(\n"
     ]
    },
    {
     "data": {
      "application/vnd.jupyter.widget-view+json": {
       "model_id": "c4663387b5d242818921272ce0bb2e49",
       "version_major": 2,
       "version_minor": 0
      },
      "text/plain": [
       "  0%|          | Repairing epochs : 0/10 [00:00<?,       ?it/s]"
      ]
     },
     "metadata": {},
     "output_type": "display_data"
    },
    {
     "name": "stdout",
     "output_type": "stream",
     "text": [
      "Dropped 1 epoch: 5\n",
      "Extracting parameters from ../ds003944/sub-2176A/eeg/sub-2176A_task-Rest_eeg.vhdr...\n",
      "Setting channel info structure...\n",
      "Reading 0 ... 316999  =      0.000 ...   316.999 secs...\n",
      "Setting up band-stop filter\n",
      "\n",
      "FIR filter parameters\n",
      "---------------------\n",
      "Designing a one-pass, zero-phase, non-causal bandstop filter:\n",
      "- Windowed time-domain design (firwin) method\n",
      "- Hamming window with 0.0194 passband ripple and 53 dB stopband attenuation\n",
      "- Lower transition bandwidth: 0.50 Hz\n",
      "- Upper transition bandwidth: 0.50 Hz\n",
      "- Filter length: 6601 samples (6.601 sec)\n",
      "\n"
     ]
    },
    {
     "name": "stderr",
     "output_type": "stream",
     "text": [
      "[Parallel(n_jobs=1)]: Using backend SequentialBackend with 1 concurrent workers.\n",
      "[Parallel(n_jobs=1)]: Done   1 out of   1 | elapsed:    0.0s remaining:    0.0s\n",
      "[Parallel(n_jobs=1)]: Done   2 out of   2 | elapsed:    0.0s remaining:    0.0s\n",
      "[Parallel(n_jobs=1)]: Done   3 out of   3 | elapsed:    0.0s remaining:    0.0s\n",
      "[Parallel(n_jobs=1)]: Done   4 out of   4 | elapsed:    0.0s remaining:    0.0s\n"
     ]
    },
    {
     "name": "stdout",
     "output_type": "stream",
     "text": [
      "Filtering raw data in 1 contiguous segment\n",
      "Setting up band-pass filter from 0.05 - 30 Hz\n",
      "\n",
      "IIR filter parameters\n",
      "---------------------\n",
      "Butterworth bandpass zero-phase (two-pass forward and reverse) non-causal filter:\n",
      "- Filter order 16 (effective, after forward-backward)\n",
      "- Cutoffs at 0.05, 30.00 Hz: -6.02, -6.02 dB\n",
      "\n"
     ]
    },
    {
     "name": "stderr",
     "output_type": "stream",
     "text": [
      "[Parallel(n_jobs=1)]: Done  61 out of  61 | elapsed:    1.0s finished\n"
     ]
    },
    {
     "name": "stdout",
     "output_type": "stream",
     "text": [
      "EEG channel type selected for re-referencing\n",
      "Applying average reference.\n",
      "Applying a custom ('EEG',) reference.\n",
      "EEG channel type selected for re-referencing\n",
      "Applying a custom ('EEG',) reference.\n",
      "{}\n",
      "Not setting metadata\n",
      "10 matching events found\n",
      "No baseline correction applied\n",
      "0 projection items activated\n",
      "Using data from preloaded Raw for 10 events and 30000 original time points ...\n",
      "0 bad epochs dropped\n",
      "Fitting ICA to data using 61 channels (please be patient, this may take a while)\n",
      "Selecting by number: 50 components\n",
      " \n",
      "Fitting ICA took 451.1s.\n",
      "Using EOG channel: VEOG\n",
      "Applying ICA to Epochs instance\n",
      "    Transforming to ICA space (50 components)\n",
      "    Zeroing out 2 ICA components\n",
      "    Projecting back using 61 PCA components\n",
      "Interpolating bad channels\n",
      "    Automatic origin fit: head of radius 97.1 mm\n",
      "Computing interpolation matrix from 57 sensor positions\n",
      "Interpolating 4 sensors\n",
      "Running autoreject on ch_type=eeg\n"
     ]
    },
    {
     "name": "stderr",
     "output_type": "stream",
     "text": [
      "c:\\dev\\python\\.venv\\Lib\\site-packages\\autoreject\\utils.py:65: UserWarning: 4 channels are marked as bad. These will be ignored. If you want them to be considered by autoreject please remove them from epochs.info[\"bads\"].\n",
      "  warnings.warn(\n"
     ]
    },
    {
     "data": {
      "application/vnd.jupyter.widget-view+json": {
       "model_id": "633ce381bd7b4d7089359c6e3b261600",
       "version_major": 2,
       "version_minor": 0
      },
      "text/plain": [
       "  0%|          | Creating augmented epochs : 0/57 [00:00<?,       ?it/s]"
      ]
     },
     "metadata": {},
     "output_type": "display_data"
    },
    {
     "data": {
      "application/vnd.jupyter.widget-view+json": {
       "model_id": "d74b10d76f554e45a1e3cb0b4b596ec3",
       "version_major": 2,
       "version_minor": 0
      },
      "text/plain": [
       "  0%|          | Computing thresholds ... : 0/57 [00:00<?,       ?it/s]"
      ]
     },
     "metadata": {},
     "output_type": "display_data"
    },
    {
     "data": {
      "application/vnd.jupyter.widget-view+json": {
       "model_id": "b7e16ecb649f4ad6903f3a614132c19a",
       "version_major": 2,
       "version_minor": 0
      },
      "text/plain": [
       "  0%|          | Repairing epochs : 0/10 [00:00<?,       ?it/s]"
      ]
     },
     "metadata": {},
     "output_type": "display_data"
    },
    {
     "data": {
      "application/vnd.jupyter.widget-view+json": {
       "model_id": "48223e8619ab4e8990fecac2d075c783",
       "version_major": 2,
       "version_minor": 0
      },
      "text/plain": [
       "  0%|          | n_interp : 0/3 [00:00<?,       ?it/s]"
      ]
     },
     "metadata": {},
     "output_type": "display_data"
    },
    {
     "data": {
      "application/vnd.jupyter.widget-view+json": {
       "model_id": "3c2cca1f285d45bcb5abb339f6568454",
       "version_major": 2,
       "version_minor": 0
      },
      "text/plain": [
       "  0%|          | Repairing epochs : 0/10 [00:00<?,       ?it/s]"
      ]
     },
     "metadata": {},
     "output_type": "display_data"
    },
    {
     "data": {
      "application/vnd.jupyter.widget-view+json": {
       "model_id": "917a1e7a6e404526aab358e72486b2a1",
       "version_major": 2,
       "version_minor": 0
      },
      "text/plain": [
       "  0%|          | Fold : 0/10 [00:00<?,       ?it/s]"
      ]
     },
     "metadata": {},
     "output_type": "display_data"
    },
    {
     "data": {
      "application/vnd.jupyter.widget-view+json": {
       "model_id": "38b76ead364d4a91b342f548f644c6d0",
       "version_major": 2,
       "version_minor": 0
      },
      "text/plain": [
       "  0%|          | Repairing epochs : 0/10 [00:00<?,       ?it/s]"
      ]
     },
     "metadata": {},
     "output_type": "display_data"
    },
    {
     "data": {
      "application/vnd.jupyter.widget-view+json": {
       "model_id": "44e466b7bf2640d2a570d1e8296a3676",
       "version_major": 2,
       "version_minor": 0
      },
      "text/plain": [
       "  0%|          | Fold : 0/10 [00:00<?,       ?it/s]"
      ]
     },
     "metadata": {},
     "output_type": "display_data"
    },
    {
     "data": {
      "application/vnd.jupyter.widget-view+json": {
       "model_id": "03ffae44edce487b95c3321394eb4c42",
       "version_major": 2,
       "version_minor": 0
      },
      "text/plain": [
       "  0%|          | Repairing epochs : 0/10 [00:00<?,       ?it/s]"
      ]
     },
     "metadata": {},
     "output_type": "display_data"
    },
    {
     "data": {
      "application/vnd.jupyter.widget-view+json": {
       "model_id": "6c321b080ce0417e858b17a71844fcb8",
       "version_major": 2,
       "version_minor": 0
      },
      "text/plain": [
       "  0%|          | Fold : 0/10 [00:00<?,       ?it/s]"
      ]
     },
     "metadata": {},
     "output_type": "display_data"
    },
    {
     "name": "stdout",
     "output_type": "stream",
     "text": [
      "\n",
      "\n",
      "\n",
      "\n",
      "Estimated consensus=0.20 and n_interpolate=4\n"
     ]
    },
    {
     "name": "stderr",
     "output_type": "stream",
     "text": [
      "c:\\dev\\python\\.venv\\Lib\\site-packages\\autoreject\\utils.py:65: UserWarning: 4 channels are marked as bad. These will be ignored. If you want them to be considered by autoreject please remove them from epochs.info[\"bads\"].\n",
      "  warnings.warn(\n"
     ]
    },
    {
     "data": {
      "application/vnd.jupyter.widget-view+json": {
       "model_id": "b142c99c699043c08dc90e89fac0ad32",
       "version_major": 2,
       "version_minor": 0
      },
      "text/plain": [
       "  0%|          | Repairing epochs : 0/10 [00:00<?,       ?it/s]"
      ]
     },
     "metadata": {},
     "output_type": "display_data"
    },
    {
     "name": "stdout",
     "output_type": "stream",
     "text": [
      "Dropped 5 epochs: 2, 4, 5, 6, 7\n",
      "Extracting parameters from ../ds003944/sub-2177A/eeg/sub-2177A_task-Rest_eeg.vhdr...\n",
      "Setting channel info structure...\n",
      "Reading 0 ... 323999  =      0.000 ...   323.999 secs...\n",
      "Setting up band-stop filter\n",
      "\n",
      "FIR filter parameters\n",
      "---------------------\n",
      "Designing a one-pass, zero-phase, non-causal bandstop filter:\n",
      "- Windowed time-domain design (firwin) method\n",
      "- Hamming window with 0.0194 passband ripple and 53 dB stopband attenuation\n",
      "- Lower transition bandwidth: 0.50 Hz\n",
      "- Upper transition bandwidth: 0.50 Hz\n",
      "- Filter length: 6601 samples (6.601 sec)\n",
      "\n"
     ]
    },
    {
     "name": "stderr",
     "output_type": "stream",
     "text": [
      "[Parallel(n_jobs=1)]: Using backend SequentialBackend with 1 concurrent workers.\n",
      "[Parallel(n_jobs=1)]: Done   1 out of   1 | elapsed:    0.0s remaining:    0.0s\n",
      "[Parallel(n_jobs=1)]: Done   2 out of   2 | elapsed:    0.0s remaining:    0.0s\n",
      "[Parallel(n_jobs=1)]: Done   3 out of   3 | elapsed:    0.0s remaining:    0.0s\n",
      "[Parallel(n_jobs=1)]: Done   4 out of   4 | elapsed:    0.0s remaining:    0.0s\n"
     ]
    },
    {
     "name": "stdout",
     "output_type": "stream",
     "text": [
      "Filtering raw data in 1 contiguous segment\n",
      "Setting up band-pass filter from 0.05 - 30 Hz\n",
      "\n",
      "IIR filter parameters\n",
      "---------------------\n",
      "Butterworth bandpass zero-phase (two-pass forward and reverse) non-causal filter:\n",
      "- Filter order 16 (effective, after forward-backward)\n",
      "- Cutoffs at 0.05, 30.00 Hz: -6.02, -6.02 dB\n",
      "\n"
     ]
    },
    {
     "name": "stderr",
     "output_type": "stream",
     "text": [
      "[Parallel(n_jobs=1)]: Done  61 out of  61 | elapsed:    1.1s finished\n"
     ]
    },
    {
     "name": "stdout",
     "output_type": "stream",
     "text": [
      "EEG channel type selected for re-referencing\n",
      "Applying average reference.\n",
      "Applying a custom ('EEG',) reference.\n",
      "EEG channel type selected for re-referencing\n",
      "Applying a custom ('EEG',) reference.\n",
      "{}\n",
      "Not setting metadata\n",
      "10 matching events found\n",
      "No baseline correction applied\n",
      "0 projection items activated\n",
      "Using data from preloaded Raw for 10 events and 30000 original time points ...\n",
      "0 bad epochs dropped\n",
      "Fitting ICA to data using 61 channels (please be patient, this may take a while)\n",
      "Selecting by number: 50 components\n",
      " \n",
      "Fitting ICA took 449.4s.\n",
      "Using EOG channel: VEOG\n",
      "Applying ICA to Epochs instance\n",
      "    Transforming to ICA space (50 components)\n",
      "    Zeroing out 3 ICA components\n",
      "    Projecting back using 61 PCA components\n",
      "Interpolating bad channels\n",
      "    Automatic origin fit: head of radius 97.1 mm\n",
      "Computing interpolation matrix from 57 sensor positions\n",
      "Interpolating 4 sensors\n",
      "Running autoreject on ch_type=eeg\n"
     ]
    },
    {
     "name": "stderr",
     "output_type": "stream",
     "text": [
      "c:\\dev\\python\\.venv\\Lib\\site-packages\\autoreject\\utils.py:65: UserWarning: 4 channels are marked as bad. These will be ignored. If you want them to be considered by autoreject please remove them from epochs.info[\"bads\"].\n",
      "  warnings.warn(\n"
     ]
    },
    {
     "data": {
      "application/vnd.jupyter.widget-view+json": {
       "model_id": "5fe4ef7a519e44dd875b914f379052ce",
       "version_major": 2,
       "version_minor": 0
      },
      "text/plain": [
       "  0%|          | Creating augmented epochs : 0/57 [00:00<?,       ?it/s]"
      ]
     },
     "metadata": {},
     "output_type": "display_data"
    },
    {
     "data": {
      "application/vnd.jupyter.widget-view+json": {
       "model_id": "3632d026225045a894174fce9070a245",
       "version_major": 2,
       "version_minor": 0
      },
      "text/plain": [
       "  0%|          | Computing thresholds ... : 0/57 [00:00<?,       ?it/s]"
      ]
     },
     "metadata": {},
     "output_type": "display_data"
    },
    {
     "data": {
      "application/vnd.jupyter.widget-view+json": {
       "model_id": "861c105fa1c54e589a339812d1f57dfa",
       "version_major": 2,
       "version_minor": 0
      },
      "text/plain": [
       "  0%|          | Repairing epochs : 0/10 [00:00<?,       ?it/s]"
      ]
     },
     "metadata": {},
     "output_type": "display_data"
    },
    {
     "data": {
      "application/vnd.jupyter.widget-view+json": {
       "model_id": "9b739c18eca3435399fccb813b632c03",
       "version_major": 2,
       "version_minor": 0
      },
      "text/plain": [
       "  0%|          | n_interp : 0/3 [00:00<?,       ?it/s]"
      ]
     },
     "metadata": {},
     "output_type": "display_data"
    },
    {
     "data": {
      "application/vnd.jupyter.widget-view+json": {
       "model_id": "0c1d3b720ee041038357492eeb9fff74",
       "version_major": 2,
       "version_minor": 0
      },
      "text/plain": [
       "  0%|          | Repairing epochs : 0/10 [00:00<?,       ?it/s]"
      ]
     },
     "metadata": {},
     "output_type": "display_data"
    },
    {
     "data": {
      "application/vnd.jupyter.widget-view+json": {
       "model_id": "1213aba6fd804b92a6b7af04f72e30f2",
       "version_major": 2,
       "version_minor": 0
      },
      "text/plain": [
       "  0%|          | Fold : 0/10 [00:00<?,       ?it/s]"
      ]
     },
     "metadata": {},
     "output_type": "display_data"
    },
    {
     "data": {
      "application/vnd.jupyter.widget-view+json": {
       "model_id": "e5e0e0e426b84c18a4933e03c2bc6fde",
       "version_major": 2,
       "version_minor": 0
      },
      "text/plain": [
       "  0%|          | Repairing epochs : 0/10 [00:00<?,       ?it/s]"
      ]
     },
     "metadata": {},
     "output_type": "display_data"
    },
    {
     "data": {
      "application/vnd.jupyter.widget-view+json": {
       "model_id": "0eccb58cf8e44921890335ab567db282",
       "version_major": 2,
       "version_minor": 0
      },
      "text/plain": [
       "  0%|          | Fold : 0/10 [00:00<?,       ?it/s]"
      ]
     },
     "metadata": {},
     "output_type": "display_data"
    },
    {
     "data": {
      "application/vnd.jupyter.widget-view+json": {
       "model_id": "bbe0e7c200af44df8b69bb0239770223",
       "version_major": 2,
       "version_minor": 0
      },
      "text/plain": [
       "  0%|          | Repairing epochs : 0/10 [00:00<?,       ?it/s]"
      ]
     },
     "metadata": {},
     "output_type": "display_data"
    },
    {
     "data": {
      "application/vnd.jupyter.widget-view+json": {
       "model_id": "4f60c5bbf0804e16b6b8d6d2fa80e1fe",
       "version_major": 2,
       "version_minor": 0
      },
      "text/plain": [
       "  0%|          | Fold : 0/10 [00:00<?,       ?it/s]"
      ]
     },
     "metadata": {},
     "output_type": "display_data"
    },
    {
     "name": "stdout",
     "output_type": "stream",
     "text": [
      "\n",
      "\n",
      "\n",
      "\n",
      "Estimated consensus=0.80 and n_interpolate=32\n"
     ]
    },
    {
     "name": "stderr",
     "output_type": "stream",
     "text": [
      "c:\\dev\\python\\.venv\\Lib\\site-packages\\autoreject\\utils.py:65: UserWarning: 4 channels are marked as bad. These will be ignored. If you want them to be considered by autoreject please remove them from epochs.info[\"bads\"].\n",
      "  warnings.warn(\n"
     ]
    },
    {
     "data": {
      "application/vnd.jupyter.widget-view+json": {
       "model_id": "50735ad253ce438faaee2f958ab1e4c2",
       "version_major": 2,
       "version_minor": 0
      },
      "text/plain": [
       "  0%|          | Repairing epochs : 0/10 [00:00<?,       ?it/s]"
      ]
     },
     "metadata": {},
     "output_type": "display_data"
    },
    {
     "name": "stdout",
     "output_type": "stream",
     "text": [
      "No bad epochs were found for your data. Returning a copy of the data you wanted to clean. Interpolation may have been done.\n",
      "Extracting parameters from ../ds003944/sub-2184A/eeg/sub-2184A_task-Rest_eeg.vhdr...\n",
      "Setting channel info structure...\n",
      "Reading 0 ... 301999  =      0.000 ...   301.999 secs...\n",
      "Setting up band-stop filter\n",
      "\n",
      "FIR filter parameters\n",
      "---------------------\n",
      "Designing a one-pass, zero-phase, non-causal bandstop filter:\n",
      "- Windowed time-domain design (firwin) method\n",
      "- Hamming window with 0.0194 passband ripple and 53 dB stopband attenuation\n",
      "- Lower transition bandwidth: 0.50 Hz\n",
      "- Upper transition bandwidth: 0.50 Hz\n",
      "- Filter length: 6601 samples (6.601 sec)\n",
      "\n"
     ]
    },
    {
     "name": "stderr",
     "output_type": "stream",
     "text": [
      "[Parallel(n_jobs=1)]: Using backend SequentialBackend with 1 concurrent workers.\n",
      "[Parallel(n_jobs=1)]: Done   1 out of   1 | elapsed:    0.0s remaining:    0.0s\n",
      "[Parallel(n_jobs=1)]: Done   2 out of   2 | elapsed:    0.0s remaining:    0.0s\n",
      "[Parallel(n_jobs=1)]: Done   3 out of   3 | elapsed:    0.0s remaining:    0.0s\n",
      "[Parallel(n_jobs=1)]: Done   4 out of   4 | elapsed:    0.0s remaining:    0.0s\n"
     ]
    },
    {
     "name": "stdout",
     "output_type": "stream",
     "text": [
      "Filtering raw data in 1 contiguous segment\n",
      "Setting up band-pass filter from 0.05 - 30 Hz\n",
      "\n",
      "IIR filter parameters\n",
      "---------------------\n",
      "Butterworth bandpass zero-phase (two-pass forward and reverse) non-causal filter:\n",
      "- Filter order 16 (effective, after forward-backward)\n",
      "- Cutoffs at 0.05, 30.00 Hz: -6.02, -6.02 dB\n",
      "\n"
     ]
    },
    {
     "name": "stderr",
     "output_type": "stream",
     "text": [
      "[Parallel(n_jobs=1)]: Done  61 out of  61 | elapsed:    0.9s finished\n"
     ]
    },
    {
     "name": "stdout",
     "output_type": "stream",
     "text": [
      "EEG channel type selected for re-referencing\n",
      "Applying average reference.\n",
      "Applying a custom ('EEG',) reference.\n",
      "EEG channel type selected for re-referencing\n",
      "Applying a custom ('EEG',) reference.\n",
      "{}\n",
      "Not setting metadata\n",
      "10 matching events found\n",
      "No baseline correction applied\n",
      "0 projection items activated\n",
      "Using data from preloaded Raw for 10 events and 30000 original time points ...\n",
      "0 bad epochs dropped\n",
      "Fitting ICA to data using 61 channels (please be patient, this may take a while)\n",
      "Selecting by number: 50 components\n",
      " \n",
      "Fitting ICA took 394.8s.\n",
      "Using EOG channel: VEOG\n",
      "Applying ICA to Epochs instance\n",
      "    Transforming to ICA space (50 components)\n",
      "    Zeroing out 3 ICA components\n",
      "    Projecting back using 61 PCA components\n",
      "Interpolating bad channels\n",
      "    Automatic origin fit: head of radius 97.1 mm\n",
      "Computing interpolation matrix from 57 sensor positions\n",
      "Interpolating 4 sensors\n",
      "Running autoreject on ch_type=eeg\n"
     ]
    },
    {
     "name": "stderr",
     "output_type": "stream",
     "text": [
      "c:\\dev\\python\\.venv\\Lib\\site-packages\\autoreject\\utils.py:65: UserWarning: 4 channels are marked as bad. These will be ignored. If you want them to be considered by autoreject please remove them from epochs.info[\"bads\"].\n",
      "  warnings.warn(\n"
     ]
    },
    {
     "data": {
      "application/vnd.jupyter.widget-view+json": {
       "model_id": "808a844320424164b0dc57e9c9929078",
       "version_major": 2,
       "version_minor": 0
      },
      "text/plain": [
       "  0%|          | Creating augmented epochs : 0/57 [00:00<?,       ?it/s]"
      ]
     },
     "metadata": {},
     "output_type": "display_data"
    },
    {
     "data": {
      "application/vnd.jupyter.widget-view+json": {
       "model_id": "56e4bdc49eb0400b8688893fd17d4a42",
       "version_major": 2,
       "version_minor": 0
      },
      "text/plain": [
       "  0%|          | Computing thresholds ... : 0/57 [00:00<?,       ?it/s]"
      ]
     },
     "metadata": {},
     "output_type": "display_data"
    },
    {
     "data": {
      "application/vnd.jupyter.widget-view+json": {
       "model_id": "98d735ed7d0643a991df5c9dfcd87c78",
       "version_major": 2,
       "version_minor": 0
      },
      "text/plain": [
       "  0%|          | Repairing epochs : 0/10 [00:00<?,       ?it/s]"
      ]
     },
     "metadata": {},
     "output_type": "display_data"
    },
    {
     "data": {
      "application/vnd.jupyter.widget-view+json": {
       "model_id": "aab0af29c5294f748e68d45b2659ca9e",
       "version_major": 2,
       "version_minor": 0
      },
      "text/plain": [
       "  0%|          | n_interp : 0/3 [00:00<?,       ?it/s]"
      ]
     },
     "metadata": {},
     "output_type": "display_data"
    },
    {
     "data": {
      "application/vnd.jupyter.widget-view+json": {
       "model_id": "e775ecdebf4046b4ab060f7cb158bba9",
       "version_major": 2,
       "version_minor": 0
      },
      "text/plain": [
       "  0%|          | Repairing epochs : 0/10 [00:00<?,       ?it/s]"
      ]
     },
     "metadata": {},
     "output_type": "display_data"
    },
    {
     "data": {
      "application/vnd.jupyter.widget-view+json": {
       "model_id": "fd6b884e4afa4468bf92e11ec54f480d",
       "version_major": 2,
       "version_minor": 0
      },
      "text/plain": [
       "  0%|          | Fold : 0/10 [00:00<?,       ?it/s]"
      ]
     },
     "metadata": {},
     "output_type": "display_data"
    },
    {
     "data": {
      "application/vnd.jupyter.widget-view+json": {
       "model_id": "fdc6eb4cdd50435f831a4c81093aeb5a",
       "version_major": 2,
       "version_minor": 0
      },
      "text/plain": [
       "  0%|          | Repairing epochs : 0/10 [00:00<?,       ?it/s]"
      ]
     },
     "metadata": {},
     "output_type": "display_data"
    },
    {
     "data": {
      "application/vnd.jupyter.widget-view+json": {
       "model_id": "9e1a189ada1d47d295b029505ef646d2",
       "version_major": 2,
       "version_minor": 0
      },
      "text/plain": [
       "  0%|          | Fold : 0/10 [00:00<?,       ?it/s]"
      ]
     },
     "metadata": {},
     "output_type": "display_data"
    },
    {
     "data": {
      "application/vnd.jupyter.widget-view+json": {
       "model_id": "07ff945262e549d5ab119a7846ab761c",
       "version_major": 2,
       "version_minor": 0
      },
      "text/plain": [
       "  0%|          | Repairing epochs : 0/10 [00:00<?,       ?it/s]"
      ]
     },
     "metadata": {},
     "output_type": "display_data"
    },
    {
     "data": {
      "application/vnd.jupyter.widget-view+json": {
       "model_id": "3e469ecb51b94f36a1efa9b02bd96d56",
       "version_major": 2,
       "version_minor": 0
      },
      "text/plain": [
       "  0%|          | Fold : 0/10 [00:00<?,       ?it/s]"
      ]
     },
     "metadata": {},
     "output_type": "display_data"
    },
    {
     "name": "stdout",
     "output_type": "stream",
     "text": [
      "\n",
      "\n",
      "\n",
      "\n",
      "Estimated consensus=0.30 and n_interpolate=4\n"
     ]
    },
    {
     "name": "stderr",
     "output_type": "stream",
     "text": [
      "c:\\dev\\python\\.venv\\Lib\\site-packages\\autoreject\\utils.py:65: UserWarning: 4 channels are marked as bad. These will be ignored. If you want them to be considered by autoreject please remove them from epochs.info[\"bads\"].\n",
      "  warnings.warn(\n"
     ]
    },
    {
     "data": {
      "application/vnd.jupyter.widget-view+json": {
       "model_id": "a0a02791bbf34accb6567a58b0436e43",
       "version_major": 2,
       "version_minor": 0
      },
      "text/plain": [
       "  0%|          | Repairing epochs : 0/10 [00:00<?,       ?it/s]"
      ]
     },
     "metadata": {},
     "output_type": "display_data"
    },
    {
     "name": "stdout",
     "output_type": "stream",
     "text": [
      "Dropped 1 epoch: 3\n",
      "Extracting parameters from ../ds003944/sub-2193A/eeg/sub-2193A_task-Rest_eeg.vhdr...\n",
      "Setting channel info structure...\n",
      "Reading 0 ... 301999  =      0.000 ...   301.999 secs...\n",
      "Setting up band-stop filter\n",
      "\n",
      "FIR filter parameters\n",
      "---------------------\n",
      "Designing a one-pass, zero-phase, non-causal bandstop filter:\n",
      "- Windowed time-domain design (firwin) method\n",
      "- Hamming window with 0.0194 passband ripple and 53 dB stopband attenuation\n",
      "- Lower transition bandwidth: 0.50 Hz\n",
      "- Upper transition bandwidth: 0.50 Hz\n",
      "- Filter length: 6601 samples (6.601 sec)\n",
      "\n"
     ]
    },
    {
     "name": "stderr",
     "output_type": "stream",
     "text": [
      "[Parallel(n_jobs=1)]: Using backend SequentialBackend with 1 concurrent workers.\n",
      "[Parallel(n_jobs=1)]: Done   1 out of   1 | elapsed:    0.0s remaining:    0.0s\n",
      "[Parallel(n_jobs=1)]: Done   2 out of   2 | elapsed:    0.0s remaining:    0.0s\n",
      "[Parallel(n_jobs=1)]: Done   3 out of   3 | elapsed:    0.0s remaining:    0.0s\n",
      "[Parallel(n_jobs=1)]: Done   4 out of   4 | elapsed:    0.0s remaining:    0.0s\n"
     ]
    },
    {
     "name": "stdout",
     "output_type": "stream",
     "text": [
      "Filtering raw data in 1 contiguous segment\n",
      "Setting up band-pass filter from 0.05 - 30 Hz\n",
      "\n",
      "IIR filter parameters\n",
      "---------------------\n",
      "Butterworth bandpass zero-phase (two-pass forward and reverse) non-causal filter:\n",
      "- Filter order 16 (effective, after forward-backward)\n",
      "- Cutoffs at 0.05, 30.00 Hz: -6.02, -6.02 dB\n",
      "\n"
     ]
    },
    {
     "name": "stderr",
     "output_type": "stream",
     "text": [
      "[Parallel(n_jobs=1)]: Done  61 out of  61 | elapsed:    0.9s finished\n"
     ]
    },
    {
     "name": "stdout",
     "output_type": "stream",
     "text": [
      "EEG channel type selected for re-referencing\n",
      "Applying average reference.\n",
      "Applying a custom ('EEG',) reference.\n",
      "EEG channel type selected for re-referencing\n",
      "Applying a custom ('EEG',) reference.\n",
      "{}\n",
      "Not setting metadata\n",
      "10 matching events found\n",
      "No baseline correction applied\n",
      "0 projection items activated\n",
      "Using data from preloaded Raw for 10 events and 30000 original time points ...\n",
      "0 bad epochs dropped\n",
      "Fitting ICA to data using 61 channels (please be patient, this may take a while)\n",
      "Selecting by number: 50 components\n",
      " \n",
      "Fitting ICA took 375.7s.\n",
      "Using EOG channel: VEOG\n",
      "Applying ICA to Epochs instance\n",
      "    Transforming to ICA space (50 components)\n",
      "    Zeroing out 1 ICA component\n",
      "    Projecting back using 61 PCA components\n",
      "Interpolating bad channels\n",
      "    Automatic origin fit: head of radius 97.1 mm\n",
      "Computing interpolation matrix from 57 sensor positions\n",
      "Interpolating 4 sensors\n",
      "Running autoreject on ch_type=eeg\n"
     ]
    },
    {
     "name": "stderr",
     "output_type": "stream",
     "text": [
      "c:\\dev\\python\\.venv\\Lib\\site-packages\\autoreject\\utils.py:65: UserWarning: 4 channels are marked as bad. These will be ignored. If you want them to be considered by autoreject please remove them from epochs.info[\"bads\"].\n",
      "  warnings.warn(\n"
     ]
    },
    {
     "data": {
      "application/vnd.jupyter.widget-view+json": {
       "model_id": "604ab9099a374a0ab19329eaef29ab5f",
       "version_major": 2,
       "version_minor": 0
      },
      "text/plain": [
       "  0%|          | Creating augmented epochs : 0/57 [00:00<?,       ?it/s]"
      ]
     },
     "metadata": {},
     "output_type": "display_data"
    },
    {
     "data": {
      "application/vnd.jupyter.widget-view+json": {
       "model_id": "b7903e413f5d4344bab2a7af9e07ef47",
       "version_major": 2,
       "version_minor": 0
      },
      "text/plain": [
       "  0%|          | Computing thresholds ... : 0/57 [00:00<?,       ?it/s]"
      ]
     },
     "metadata": {},
     "output_type": "display_data"
    },
    {
     "data": {
      "application/vnd.jupyter.widget-view+json": {
       "model_id": "a6d75feb16854f1b9901899fef798308",
       "version_major": 2,
       "version_minor": 0
      },
      "text/plain": [
       "  0%|          | Repairing epochs : 0/10 [00:00<?,       ?it/s]"
      ]
     },
     "metadata": {},
     "output_type": "display_data"
    },
    {
     "data": {
      "application/vnd.jupyter.widget-view+json": {
       "model_id": "9323b97f319b4f28bb90dc6fefb63522",
       "version_major": 2,
       "version_minor": 0
      },
      "text/plain": [
       "  0%|          | n_interp : 0/3 [00:00<?,       ?it/s]"
      ]
     },
     "metadata": {},
     "output_type": "display_data"
    },
    {
     "data": {
      "application/vnd.jupyter.widget-view+json": {
       "model_id": "84517be4cbcd4309832496c158505445",
       "version_major": 2,
       "version_minor": 0
      },
      "text/plain": [
       "  0%|          | Repairing epochs : 0/10 [00:00<?,       ?it/s]"
      ]
     },
     "metadata": {},
     "output_type": "display_data"
    },
    {
     "data": {
      "application/vnd.jupyter.widget-view+json": {
       "model_id": "e2b3bd50e8314b6da1dfb2db3bb44101",
       "version_major": 2,
       "version_minor": 0
      },
      "text/plain": [
       "  0%|          | Fold : 0/10 [00:00<?,       ?it/s]"
      ]
     },
     "metadata": {},
     "output_type": "display_data"
    },
    {
     "data": {
      "application/vnd.jupyter.widget-view+json": {
       "model_id": "42e80e97735844df8e39820b1bbe6148",
       "version_major": 2,
       "version_minor": 0
      },
      "text/plain": [
       "  0%|          | Repairing epochs : 0/10 [00:00<?,       ?it/s]"
      ]
     },
     "metadata": {},
     "output_type": "display_data"
    },
    {
     "data": {
      "application/vnd.jupyter.widget-view+json": {
       "model_id": "39e2c69973e443e5bff659266336c8e8",
       "version_major": 2,
       "version_minor": 0
      },
      "text/plain": [
       "  0%|          | Fold : 0/10 [00:00<?,       ?it/s]"
      ]
     },
     "metadata": {},
     "output_type": "display_data"
    },
    {
     "data": {
      "application/vnd.jupyter.widget-view+json": {
       "model_id": "7c0ee6be68da4888b50885027271c166",
       "version_major": 2,
       "version_minor": 0
      },
      "text/plain": [
       "  0%|          | Repairing epochs : 0/10 [00:00<?,       ?it/s]"
      ]
     },
     "metadata": {},
     "output_type": "display_data"
    },
    {
     "data": {
      "application/vnd.jupyter.widget-view+json": {
       "model_id": "5ac3494068cc44b5abc0a0b4d4f7d3f8",
       "version_major": 2,
       "version_minor": 0
      },
      "text/plain": [
       "  0%|          | Fold : 0/10 [00:00<?,       ?it/s]"
      ]
     },
     "metadata": {},
     "output_type": "display_data"
    },
    {
     "name": "stdout",
     "output_type": "stream",
     "text": [
      "\n",
      "\n",
      "\n",
      "\n",
      "Estimated consensus=0.70 and n_interpolate=32\n"
     ]
    },
    {
     "name": "stderr",
     "output_type": "stream",
     "text": [
      "c:\\dev\\python\\.venv\\Lib\\site-packages\\autoreject\\utils.py:65: UserWarning: 4 channels are marked as bad. These will be ignored. If you want them to be considered by autoreject please remove them from epochs.info[\"bads\"].\n",
      "  warnings.warn(\n"
     ]
    },
    {
     "data": {
      "application/vnd.jupyter.widget-view+json": {
       "model_id": "ccb6d8876ba241b7b100969668cb3810",
       "version_major": 2,
       "version_minor": 0
      },
      "text/plain": [
       "  0%|          | Repairing epochs : 0/10 [00:00<?,       ?it/s]"
      ]
     },
     "metadata": {},
     "output_type": "display_data"
    },
    {
     "name": "stdout",
     "output_type": "stream",
     "text": [
      "No bad epochs were found for your data. Returning a copy of the data you wanted to clean. Interpolation may have been done.\n",
      "Extracting parameters from ../ds003944/sub-2214A/eeg/sub-2214A_task-Rest_eeg.vhdr...\n",
      "Setting channel info structure...\n",
      "Reading 0 ... 302999  =      0.000 ...   302.999 secs...\n",
      "Setting up band-stop filter\n",
      "\n",
      "FIR filter parameters\n",
      "---------------------\n",
      "Designing a one-pass, zero-phase, non-causal bandstop filter:\n",
      "- Windowed time-domain design (firwin) method\n",
      "- Hamming window with 0.0194 passband ripple and 53 dB stopband attenuation\n",
      "- Lower transition bandwidth: 0.50 Hz\n",
      "- Upper transition bandwidth: 0.50 Hz\n",
      "- Filter length: 6601 samples (6.601 sec)\n",
      "\n"
     ]
    },
    {
     "name": "stderr",
     "output_type": "stream",
     "text": [
      "[Parallel(n_jobs=1)]: Using backend SequentialBackend with 1 concurrent workers.\n",
      "[Parallel(n_jobs=1)]: Done   1 out of   1 | elapsed:    0.0s remaining:    0.0s\n",
      "[Parallel(n_jobs=1)]: Done   2 out of   2 | elapsed:    0.0s remaining:    0.0s\n",
      "[Parallel(n_jobs=1)]: Done   3 out of   3 | elapsed:    0.0s remaining:    0.0s\n",
      "[Parallel(n_jobs=1)]: Done   4 out of   4 | elapsed:    0.0s remaining:    0.0s\n"
     ]
    },
    {
     "name": "stdout",
     "output_type": "stream",
     "text": [
      "Filtering raw data in 1 contiguous segment\n",
      "Setting up band-pass filter from 0.05 - 30 Hz\n",
      "\n",
      "IIR filter parameters\n",
      "---------------------\n",
      "Butterworth bandpass zero-phase (two-pass forward and reverse) non-causal filter:\n",
      "- Filter order 16 (effective, after forward-backward)\n",
      "- Cutoffs at 0.05, 30.00 Hz: -6.02, -6.02 dB\n",
      "\n"
     ]
    },
    {
     "name": "stderr",
     "output_type": "stream",
     "text": [
      "[Parallel(n_jobs=1)]: Done  61 out of  61 | elapsed:    0.9s finished\n"
     ]
    },
    {
     "name": "stdout",
     "output_type": "stream",
     "text": [
      "EEG channel type selected for re-referencing\n",
      "Applying average reference.\n",
      "Applying a custom ('EEG',) reference.\n",
      "EEG channel type selected for re-referencing\n",
      "Applying a custom ('EEG',) reference.\n",
      "{}\n",
      "Not setting metadata\n",
      "10 matching events found\n",
      "No baseline correction applied\n",
      "0 projection items activated\n",
      "Using data from preloaded Raw for 10 events and 30000 original time points ...\n",
      "0 bad epochs dropped\n",
      "Fitting ICA to data using 61 channels (please be patient, this may take a while)\n",
      "Selecting by number: 50 components\n",
      " \n",
      "Fitting ICA took 371.0s.\n",
      "Using EOG channel: VEOG\n",
      "Applying ICA to Epochs instance\n",
      "    Transforming to ICA space (50 components)\n",
      "    Zeroing out 0 ICA components\n",
      "    Projecting back using 61 PCA components\n",
      "Interpolating bad channels\n",
      "    Automatic origin fit: head of radius 97.1 mm\n",
      "Computing interpolation matrix from 57 sensor positions\n",
      "Interpolating 4 sensors\n",
      "Running autoreject on ch_type=eeg\n"
     ]
    },
    {
     "name": "stderr",
     "output_type": "stream",
     "text": [
      "c:\\dev\\python\\.venv\\Lib\\site-packages\\autoreject\\utils.py:65: UserWarning: 4 channels are marked as bad. These will be ignored. If you want them to be considered by autoreject please remove them from epochs.info[\"bads\"].\n",
      "  warnings.warn(\n"
     ]
    },
    {
     "data": {
      "application/vnd.jupyter.widget-view+json": {
       "model_id": "011d7a6a764542a3b5aef8e7eb81d62b",
       "version_major": 2,
       "version_minor": 0
      },
      "text/plain": [
       "  0%|          | Creating augmented epochs : 0/57 [00:00<?,       ?it/s]"
      ]
     },
     "metadata": {},
     "output_type": "display_data"
    },
    {
     "data": {
      "application/vnd.jupyter.widget-view+json": {
       "model_id": "8ae0717cb33c4c3caaa4380cf04ce8a2",
       "version_major": 2,
       "version_minor": 0
      },
      "text/plain": [
       "  0%|          | Computing thresholds ... : 0/57 [00:00<?,       ?it/s]"
      ]
     },
     "metadata": {},
     "output_type": "display_data"
    },
    {
     "data": {
      "application/vnd.jupyter.widget-view+json": {
       "model_id": "e02d867b28ab44a2859eb145cba789c3",
       "version_major": 2,
       "version_minor": 0
      },
      "text/plain": [
       "  0%|          | Repairing epochs : 0/10 [00:00<?,       ?it/s]"
      ]
     },
     "metadata": {},
     "output_type": "display_data"
    },
    {
     "data": {
      "application/vnd.jupyter.widget-view+json": {
       "model_id": "6355bb8f49a548a59f6f0d87658c65bb",
       "version_major": 2,
       "version_minor": 0
      },
      "text/plain": [
       "  0%|          | n_interp : 0/3 [00:00<?,       ?it/s]"
      ]
     },
     "metadata": {},
     "output_type": "display_data"
    },
    {
     "data": {
      "application/vnd.jupyter.widget-view+json": {
       "model_id": "17cde7948a184904ae9bcee5bbed2055",
       "version_major": 2,
       "version_minor": 0
      },
      "text/plain": [
       "  0%|          | Repairing epochs : 0/10 [00:00<?,       ?it/s]"
      ]
     },
     "metadata": {},
     "output_type": "display_data"
    },
    {
     "data": {
      "application/vnd.jupyter.widget-view+json": {
       "model_id": "b8c9404ddb79486aa25f22e4c13a24fa",
       "version_major": 2,
       "version_minor": 0
      },
      "text/plain": [
       "  0%|          | Fold : 0/10 [00:00<?,       ?it/s]"
      ]
     },
     "metadata": {},
     "output_type": "display_data"
    },
    {
     "data": {
      "application/vnd.jupyter.widget-view+json": {
       "model_id": "7f7d26fa092c4048bd657f5f0c5bd31d",
       "version_major": 2,
       "version_minor": 0
      },
      "text/plain": [
       "  0%|          | Repairing epochs : 0/10 [00:00<?,       ?it/s]"
      ]
     },
     "metadata": {},
     "output_type": "display_data"
    },
    {
     "data": {
      "application/vnd.jupyter.widget-view+json": {
       "model_id": "cb73b424d0244318a25171ed4d141f5a",
       "version_major": 2,
       "version_minor": 0
      },
      "text/plain": [
       "  0%|          | Fold : 0/10 [00:00<?,       ?it/s]"
      ]
     },
     "metadata": {},
     "output_type": "display_data"
    },
    {
     "data": {
      "application/vnd.jupyter.widget-view+json": {
       "model_id": "042a4bc792c842868affd62f00969256",
       "version_major": 2,
       "version_minor": 0
      },
      "text/plain": [
       "  0%|          | Repairing epochs : 0/10 [00:00<?,       ?it/s]"
      ]
     },
     "metadata": {},
     "output_type": "display_data"
    },
    {
     "data": {
      "application/vnd.jupyter.widget-view+json": {
       "model_id": "8e30bd9dc25e43e1be02ccc80adf134c",
       "version_major": 2,
       "version_minor": 0
      },
      "text/plain": [
       "  0%|          | Fold : 0/10 [00:00<?,       ?it/s]"
      ]
     },
     "metadata": {},
     "output_type": "display_data"
    },
    {
     "name": "stdout",
     "output_type": "stream",
     "text": [
      "\n",
      "\n",
      "\n",
      "\n",
      "Estimated consensus=0.70 and n_interpolate=32\n"
     ]
    },
    {
     "name": "stderr",
     "output_type": "stream",
     "text": [
      "c:\\dev\\python\\.venv\\Lib\\site-packages\\autoreject\\utils.py:65: UserWarning: 4 channels are marked as bad. These will be ignored. If you want them to be considered by autoreject please remove them from epochs.info[\"bads\"].\n",
      "  warnings.warn(\n"
     ]
    },
    {
     "data": {
      "application/vnd.jupyter.widget-view+json": {
       "model_id": "024783e463b94a7390a8eb707804a424",
       "version_major": 2,
       "version_minor": 0
      },
      "text/plain": [
       "  0%|          | Repairing epochs : 0/10 [00:00<?,       ?it/s]"
      ]
     },
     "metadata": {},
     "output_type": "display_data"
    },
    {
     "name": "stdout",
     "output_type": "stream",
     "text": [
      "No bad epochs were found for your data. Returning a copy of the data you wanted to clean. Interpolation may have been done.\n",
      "Extracting parameters from ../ds003944/sub-2217A/eeg/sub-2217A_task-Rest_eeg.vhdr...\n",
      "Setting channel info structure...\n",
      "Reading 0 ... 302999  =      0.000 ...   302.999 secs...\n",
      "Setting up band-stop filter\n",
      "\n",
      "FIR filter parameters\n",
      "---------------------\n",
      "Designing a one-pass, zero-phase, non-causal bandstop filter:\n",
      "- Windowed time-domain design (firwin) method\n",
      "- Hamming window with 0.0194 passband ripple and 53 dB stopband attenuation\n",
      "- Lower transition bandwidth: 0.50 Hz\n",
      "- Upper transition bandwidth: 0.50 Hz\n",
      "- Filter length: 6601 samples (6.601 sec)\n",
      "\n"
     ]
    },
    {
     "name": "stderr",
     "output_type": "stream",
     "text": [
      "[Parallel(n_jobs=1)]: Using backend SequentialBackend with 1 concurrent workers.\n",
      "[Parallel(n_jobs=1)]: Done   1 out of   1 | elapsed:    0.0s remaining:    0.0s\n",
      "[Parallel(n_jobs=1)]: Done   2 out of   2 | elapsed:    0.0s remaining:    0.0s\n",
      "[Parallel(n_jobs=1)]: Done   3 out of   3 | elapsed:    0.0s remaining:    0.0s\n",
      "[Parallel(n_jobs=1)]: Done   4 out of   4 | elapsed:    0.0s remaining:    0.0s\n"
     ]
    },
    {
     "name": "stdout",
     "output_type": "stream",
     "text": [
      "Filtering raw data in 1 contiguous segment\n",
      "Setting up band-pass filter from 0.05 - 30 Hz\n",
      "\n",
      "IIR filter parameters\n",
      "---------------------\n",
      "Butterworth bandpass zero-phase (two-pass forward and reverse) non-causal filter:\n",
      "- Filter order 16 (effective, after forward-backward)\n",
      "- Cutoffs at 0.05, 30.00 Hz: -6.02, -6.02 dB\n",
      "\n"
     ]
    },
    {
     "name": "stderr",
     "output_type": "stream",
     "text": [
      "[Parallel(n_jobs=1)]: Done  61 out of  61 | elapsed:    0.9s finished\n"
     ]
    },
    {
     "name": "stdout",
     "output_type": "stream",
     "text": [
      "EEG channel type selected for re-referencing\n",
      "Applying average reference.\n",
      "Applying a custom ('EEG',) reference.\n",
      "EEG channel type selected for re-referencing\n",
      "Applying a custom ('EEG',) reference.\n",
      "{}\n",
      "Not setting metadata\n",
      "10 matching events found\n",
      "No baseline correction applied\n",
      "0 projection items activated\n",
      "Using data from preloaded Raw for 10 events and 30000 original time points ...\n",
      "0 bad epochs dropped\n",
      "Fitting ICA to data using 61 channels (please be patient, this may take a while)\n",
      "Selecting by number: 50 components\n",
      " \n",
      "Fitting ICA took 377.8s.\n",
      "Using EOG channel: VEOG\n",
      "Applying ICA to Epochs instance\n",
      "    Transforming to ICA space (50 components)\n",
      "    Zeroing out 4 ICA components\n",
      "    Projecting back using 61 PCA components\n",
      "Interpolating bad channels\n",
      "    Automatic origin fit: head of radius 97.1 mm\n",
      "Computing interpolation matrix from 57 sensor positions\n",
      "Interpolating 4 sensors\n",
      "Running autoreject on ch_type=eeg\n"
     ]
    },
    {
     "name": "stderr",
     "output_type": "stream",
     "text": [
      "c:\\dev\\python\\.venv\\Lib\\site-packages\\autoreject\\utils.py:65: UserWarning: 4 channels are marked as bad. These will be ignored. If you want them to be considered by autoreject please remove them from epochs.info[\"bads\"].\n",
      "  warnings.warn(\n"
     ]
    },
    {
     "data": {
      "application/vnd.jupyter.widget-view+json": {
       "model_id": "1ed1450310e345ef88aacd3756595399",
       "version_major": 2,
       "version_minor": 0
      },
      "text/plain": [
       "  0%|          | Creating augmented epochs : 0/57 [00:00<?,       ?it/s]"
      ]
     },
     "metadata": {},
     "output_type": "display_data"
    },
    {
     "data": {
      "application/vnd.jupyter.widget-view+json": {
       "model_id": "41a253187aeb45668251dda7ab7cf010",
       "version_major": 2,
       "version_minor": 0
      },
      "text/plain": [
       "  0%|          | Computing thresholds ... : 0/57 [00:00<?,       ?it/s]"
      ]
     },
     "metadata": {},
     "output_type": "display_data"
    },
    {
     "data": {
      "application/vnd.jupyter.widget-view+json": {
       "model_id": "0f16dfc2a00a485ea281928316241504",
       "version_major": 2,
       "version_minor": 0
      },
      "text/plain": [
       "  0%|          | Repairing epochs : 0/10 [00:00<?,       ?it/s]"
      ]
     },
     "metadata": {},
     "output_type": "display_data"
    },
    {
     "data": {
      "application/vnd.jupyter.widget-view+json": {
       "model_id": "d54f313f398740d3b6cbb1be8f3acdf3",
       "version_major": 2,
       "version_minor": 0
      },
      "text/plain": [
       "  0%|          | n_interp : 0/3 [00:00<?,       ?it/s]"
      ]
     },
     "metadata": {},
     "output_type": "display_data"
    },
    {
     "data": {
      "application/vnd.jupyter.widget-view+json": {
       "model_id": "41ddffb0fd574b458d61c134b915dd3d",
       "version_major": 2,
       "version_minor": 0
      },
      "text/plain": [
       "  0%|          | Repairing epochs : 0/10 [00:00<?,       ?it/s]"
      ]
     },
     "metadata": {},
     "output_type": "display_data"
    },
    {
     "data": {
      "application/vnd.jupyter.widget-view+json": {
       "model_id": "0e6f4f296ffe4d18bf1b5cc0840553d8",
       "version_major": 2,
       "version_minor": 0
      },
      "text/plain": [
       "  0%|          | Fold : 0/10 [00:00<?,       ?it/s]"
      ]
     },
     "metadata": {},
     "output_type": "display_data"
    },
    {
     "data": {
      "application/vnd.jupyter.widget-view+json": {
       "model_id": "af8e17f9e3dc4e9f9d4df87db8f262f7",
       "version_major": 2,
       "version_minor": 0
      },
      "text/plain": [
       "  0%|          | Repairing epochs : 0/10 [00:00<?,       ?it/s]"
      ]
     },
     "metadata": {},
     "output_type": "display_data"
    },
    {
     "data": {
      "application/vnd.jupyter.widget-view+json": {
       "model_id": "62bb5072a246460b89e4a61fedcabfc3",
       "version_major": 2,
       "version_minor": 0
      },
      "text/plain": [
       "  0%|          | Fold : 0/10 [00:00<?,       ?it/s]"
      ]
     },
     "metadata": {},
     "output_type": "display_data"
    },
    {
     "data": {
      "application/vnd.jupyter.widget-view+json": {
       "model_id": "25dfc67653464dabb74c609ed1bf7bff",
       "version_major": 2,
       "version_minor": 0
      },
      "text/plain": [
       "  0%|          | Repairing epochs : 0/10 [00:00<?,       ?it/s]"
      ]
     },
     "metadata": {},
     "output_type": "display_data"
    },
    {
     "data": {
      "application/vnd.jupyter.widget-view+json": {
       "model_id": "07b3ff1ccf094054986a4ba86fcb2715",
       "version_major": 2,
       "version_minor": 0
      },
      "text/plain": [
       "  0%|          | Fold : 0/10 [00:00<?,       ?it/s]"
      ]
     },
     "metadata": {},
     "output_type": "display_data"
    },
    {
     "name": "stdout",
     "output_type": "stream",
     "text": [
      "\n",
      "\n",
      "\n",
      "\n",
      "Estimated consensus=0.60 and n_interpolate=32\n"
     ]
    },
    {
     "name": "stderr",
     "output_type": "stream",
     "text": [
      "c:\\dev\\python\\.venv\\Lib\\site-packages\\autoreject\\utils.py:65: UserWarning: 4 channels are marked as bad. These will be ignored. If you want them to be considered by autoreject please remove them from epochs.info[\"bads\"].\n",
      "  warnings.warn(\n"
     ]
    },
    {
     "data": {
      "application/vnd.jupyter.widget-view+json": {
       "model_id": "e12a3b58d32347d7a14cdec99cf4d3ab",
       "version_major": 2,
       "version_minor": 0
      },
      "text/plain": [
       "  0%|          | Repairing epochs : 0/10 [00:00<?,       ?it/s]"
      ]
     },
     "metadata": {},
     "output_type": "display_data"
    },
    {
     "name": "stdout",
     "output_type": "stream",
     "text": [
      "Dropped 1 epoch: 9\n",
      "Extracting parameters from ../ds003944/sub-2221A/eeg/sub-2221A_task-Rest_eeg.vhdr...\n",
      "Setting channel info structure...\n",
      "Reading 0 ... 317999  =      0.000 ...   317.999 secs...\n"
     ]
    }
   ],
   "source": [
    "#run the below code for each subject using vmrk files within folder that name equals value in column 1 of df_participants;\n",
    "#if loops is interrupted, it can be continued from the next subject\n",
    "\n",
    "\n",
    "\n",
    "for index, row in df_participants.iterrows():\n",
    "    \n",
    "    try:\n",
    "\n",
    "        #reading brainvision files\n",
    "        brainvision_raw = mne.io.read_raw_brainvision(\n",
    "            f'../ds003944/{row[\"participant_id\"]}/eeg/{row[\"participant_id\"]}_task-Rest_eeg.vhdr',\n",
    "            preload=True)\n",
    "\n",
    "        brainvision_fname = f'../ds003944/{row[\"participant_id\"]}/eeg/{row[\"participant_id\"]}_task-Rest_eeg.vhdr'\n",
    "\n",
    "        \n",
    "        #renaming channels\n",
    "        brainvision_raw.rename_channels(channels_new_names_dict)\n",
    "\n",
    "        #setting channel types\n",
    "        brainvision_raw.set_channel_types({\n",
    "            'VEOG':'eog',\n",
    "            'ECG':'ecg',\n",
    "            'Misc':'misc',\n",
    "            'M2':'eeg'\n",
    "        })\n",
    "\n",
    "        #setting montage\n",
    "        brainvision_raw.set_montage('standard_1020')\n",
    "\n",
    "        #filtering data\n",
    "        mat_nyquist_freq = brainvision_raw.info[\"sfreq\"] / 2\n",
    "        brainvision_raw.notch_filter(freqs=np.arange(50, mat_nyquist_freq, 50), picks='eeg')\n",
    "        brainvision_raw.filter(0.05, 30, method=\"iir\", picks='eeg')\n",
    "\n",
    "        #setting reference\n",
    "        reference = 'average'\n",
    "        brainvision_raw.set_eeg_reference(ref_channels=reference)\n",
    "        reference = ['M2']\n",
    "        brainvision_raw.set_eeg_reference(ref_channels=reference)\n",
    "\n",
    "        #data segmentation into epochs\n",
    "        events_from_annotations, events_dict_from_annotations = mne.events_from_annotations(brainvision_raw)\n",
    "        print(events_dict_from_annotations)\n",
    "        mat_epochs = mne.make_fixed_length_epochs(brainvision_raw, duration=30, preload=True)\n",
    "\n",
    "        #occular correction with ICA\n",
    "        ica = mne.preprocessing.ICA(n_components=50, random_state=42, method=\"infomax\")\n",
    "        ica.fit(mat_epochs)\n",
    "        ica.exclude=[]\n",
    "        eog_indices, eog_sources = ica.find_bads_eog(\n",
    "            mat_epochs, \n",
    "            measure='zscore', \n",
    "            threshold='auto'\n",
    "        )\n",
    "        ica.exclude = eog_indices\n",
    "        ica.apply(mat_epochs)\n",
    "    \n",
    "        #interpolating bad channels\n",
    "        mat_epochs.info['bads'] = ['Fp1', 'Fp2', 'AF3', 'AF4']\n",
    "        mat_epochs = mat_epochs.interpolate_bads(reset_bads=False)\n",
    "\n",
    "        #artifact rejection\n",
    "        mat_epochs_clean = ar.fit_transform(mat_epochs)\n",
    "\n",
    "        #saving epochs to fif file\n",
    "        dir_to_store_fif = \"../ds003944/preprocessed-data-autoreject/\"\n",
    "        start = brainvision_fname.index(\"sub-\")\n",
    "        end = brainvision_fname.index(\"/eeg\")\n",
    "        sub_id = brainvision_fname[start:end]\n",
    "        mat_epochs_clean.save(f\"{dir_to_store_fif}{sub_id}-epo.fif\")\n",
    "\n",
    "        #update df_participants with number of epochs and fif file name\n",
    "        df_participants.loc[index, \"number_of_epochs\"] = len(mat_epochs)\n",
    "        df_participants.loc[index, \"fif_file_name\"] = f\"{sub_id}-epo.fif\"\n",
    "        \n",
    "\n",
    "    except:\n",
    "        continue\n",
    "\n",
    "    #saving df_participants to csv file\n",
    "    df_participants.to_csv(\"../ds003944/preprocessed-data-autoreject/df_participants.csv\", index=False)\n",
    "\n",
    "        \n",
    "\n",
    "\n",
    "\n",
    "\n",
    "\n",
    "    \n",
    "\n"
   ]
  }
 ],
 "metadata": {
  "kernelspec": {
   "display_name": ".venv",
   "language": "python",
   "name": "python3"
  },
  "language_info": {
   "codemirror_mode": {
    "name": "ipython",
    "version": 3
   },
   "file_extension": ".py",
   "mimetype": "text/x-python",
   "name": "python",
   "nbconvert_exporter": "python",
   "pygments_lexer": "ipython3",
   "version": "3.11.0"
  },
  "orig_nbformat": 4,
  "vscode": {
   "interpreter": {
    "hash": "46163c57d5b04891a5e4d3abf1d0e8d0e7c5f2f59168e3778b3985befe274ccf"
   }
  }
 },
 "nbformat": 4,
 "nbformat_minor": 2
}
